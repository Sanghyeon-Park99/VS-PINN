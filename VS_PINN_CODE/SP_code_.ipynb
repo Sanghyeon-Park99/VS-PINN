{
 "cells": [
  {
   "cell_type": "markdown",
   "metadata": {
    "id": "giKCttwtEa4M"
   },
   "source": [
    "#Import & Define func"
   ]
  },
  {
   "cell_type": "code",
   "execution_count": null,
   "metadata": {
    "id": "sLi8d_ndEVmG"
   },
   "outputs": [],
   "source": [
    "import numpy as np\n",
    "\n",
    "import torch\n",
    "import torch.nn as nn\n",
    "from torch.autograd import Variable\n",
    "# import random\n",
    "\n",
    "device = torch.device(\"cuda:0\" if torch.cuda.is_available() else \"cpu\")"
   ]
  },
  {
   "cell_type": "markdown",
   "metadata": {
    "id": "fWI8efG9EeAr"
   },
   "source": [
    "#Build Network"
   ]
  },
  {
   "cell_type": "code",
   "execution_count": null,
   "metadata": {
    "id": "zQZmVEWvlk-0"
   },
   "outputs": [],
   "source": [
    "activation = torch.tanh"
   ]
  },
  {
   "cell_type": "code",
   "execution_count": null,
   "metadata": {
    "id": "eiGaIYgobOMH"
   },
   "outputs": [],
   "source": [
    "M = 20\n",
    "\n",
    "class Net_SP(nn.Module):\n",
    "    def __init__(self):\n",
    "        super(Net_SP, self).__init__()\n",
    "        torch.manual_seed(333) # Fix Initial_Parameter\n",
    "        self.hidden_layer1 = nn.Linear(1,M)\n",
    "        torch.manual_seed(333)\n",
    "        self.hidden_layer2 = nn.Linear(M,M)\n",
    "        torch.manual_seed(333)\n",
    "        self.hidden_layer3 = nn.Linear(M,M)\n",
    "        torch.manual_seed(333)\n",
    "        self.hidden_layer4 = nn.Linear(M,M)\n",
    "        torch.manual_seed(333)\n",
    "        self.output_layer = nn.Linear(M,1)\n",
    "\n",
    "    def forward(self, x):\n",
    "        inputs = torch.cat([x],axis=1)\n",
    "        layer1_out = activation(self.hidden_layer1(inputs))\n",
    "        layer2_out = activation(self.hidden_layer2(layer1_out))\n",
    "        layer3_out = activation(self.hidden_layer3(layer2_out))\n",
    "        layer4_out = activation(self.hidden_layer4(layer3_out))\n",
    "        output = self.output_layer(layer4_out)\n",
    "\n",
    "        return output"
   ]
  },
  {
   "cell_type": "markdown",
   "metadata": {
    "id": "pZ0VS6TZE3XU"
   },
   "source": [
    "#set PDE,residual"
   ]
  },
  {
   "cell_type": "code",
   "execution_count": null,
   "metadata": {
    "id": "cFtot07TqmZA"
   },
   "outputs": [],
   "source": [
    "N = 1000"
   ]
  },
  {
   "cell_type": "code",
   "execution_count": null,
   "metadata": {
    "id": "QpJcwaAuE3I7"
   },
   "outputs": [],
   "source": [
    "def f(x, net):\n",
    "    u = net(x)\n",
    "\n",
    "    u_x = torch.autograd.grad(u.sum(), x, create_graph=True)[0]\n",
    "    u_xx = torch.autograd.grad(u_x.sum(),\n",
    "                               x, create_graph=True)[0]\n",
    "\n",
    "\n",
    "\n",
    "    pde = N*N*(0.000001)*u_xx + N*u_x + 1*torch.tensor(1, dtype=torch.float64)\n",
    "\n",
    "    return pde\n"
   ]
  },
  {
   "cell_type": "markdown",
   "metadata": {
    "id": "uXXaESkLEwdo"
   },
   "source": [
    "#loss,optimize"
   ]
  },
  {
   "cell_type": "code",
   "execution_count": null,
   "metadata": {
    "id": "jC1k0mR_EzgM"
   },
   "outputs": [],
   "source": [
    "import torch\n",
    "import torch.nn.init as init\n",
    "\n",
    "### (2) Model\n",
    "mse_cost_function = torch.nn.MSELoss()\n",
    "\n",
    "net_SP = Net_SP()\n",
    "net_SP = net_SP.to(device)\n",
    "optimizer = torch.optim.Adam(net_SP.parameters(),lr=0.0005)"
   ]
  },
  {
   "cell_type": "markdown",
   "metadata": {
    "id": "8_spWkLNUDZX"
   },
   "source": [
    "#Set Observer Point"
   ]
  },
  {
   "cell_type": "code",
   "execution_count": null,
   "metadata": {
    "id": "CaA2QofmAy5Z"
   },
   "outputs": [],
   "source": [
    "x_D = np.random.uniform(low = 0 , high = 1 , size=(10000,1))\n",
    "\n",
    "pt_x = Variable(torch.from_numpy(x_D).float(), requires_grad=False).to(device)"
   ]
  },
  {
   "cell_type": "markdown",
   "metadata": {
    "id": "RlZQ84A4_0kI"
   },
   "source": [
    "# Datapoint"
   ]
  },
  {
   "cell_type": "code",
   "execution_count": null,
   "metadata": {
    "colab": {
     "base_uri": "https://localhost:8080/"
    },
    "id": "kea5MO7Y_8Bc",
    "outputId": "8f934bdb-7a1c-4739-f303-5610968f149e"
   },
   "outputs": [
    {
     "name": "stdout",
     "output_type": "stream",
     "text": [
      "[0.45293346]\n"
     ]
    }
   ],
   "source": [
    "##---------------------------------Condition Domain--------------------------------##\n",
    "\n",
    "x_0 = np.zeros((1,1))\n",
    "x_N = np.ones((1,1))*N\n",
    "\n",
    "##---------------------------------Condition Label--------------------------------##\n",
    "\n",
    "u_x0 =  np.zeros((1,1))\n",
    "u_xN =  np.zeros((1,1))\n",
    "\n",
    "##------------------------------------Condition Domain---------------------------------------##\n",
    "\n",
    "C_x_0 = Variable(torch.from_numpy(x_0).float(), requires_grad=True).to(device)\n",
    "C_x_N = Variable(torch.from_numpy(x_N).float(), requires_grad=True).to(device)\n",
    "\n",
    "##------------------------------------Condition Label---------------------------------------##\n",
    "\n",
    "pt_u_x0 = Variable(torch.from_numpy(u_x0).float(), requires_grad=False).to(device)\n",
    "pt_u_xN = Variable(torch.from_numpy(u_xN).float(), requires_grad=False).to(device)\n",
    "\n",
    "##------------------------------------Set Interior Domain-----------------------------------------##\n",
    "\n",
    "x_collocation = np.random.uniform(low=0, high=N, size=(1000,1))\n",
    "all_zeros = np.zeros((1000,1))\n",
    "\n",
    "pt_x_collocation = Variable(torch.from_numpy(x_collocation).float(), requires_grad=True).to(device)\n",
    "pt_all_zeros = Variable(torch.from_numpy(all_zeros).float(), requires_grad=False).to(device)"
   ]
  },
  {
   "cell_type": "markdown",
   "metadata": {
    "id": "oIde0S5M8j28"
   },
   "source": [
    "#Train"
   ]
  },
  {
   "cell_type": "code",
   "execution_count": null,
   "metadata": {
    "colab": {
     "base_uri": "https://localhost:8080/",
     "height": 1000
    },
    "id": "Td1Qkugx8fds",
    "outputId": "adfaebf5-0945-4e5c-cc5a-b60f5dec1ac6"
   },
   "outputs": [
    {
     "name": "stdout",
     "output_type": "stream",
     "text": [
      "-----------------------------------------------------------------------------\n",
      "Epoch: 1\n",
      "tensor(1.0673, device='cuda:0', grad_fn=<DivBackward0>)\n",
      "tensor(11.3255, device='cuda:0', grad_fn=<AddBackward0>)\n",
      "-----------------------------------------------------------------------------\n",
      "Epoch: 101\n",
      "tensor(1.0160, device='cuda:0', grad_fn=<DivBackward0>)\n",
      "tensor(9.6796, device='cuda:0', grad_fn=<AddBackward0>)\n",
      "-----------------------------------------------------------------------------\n",
      "Epoch: 201\n",
      "tensor(1.0212, device='cuda:0', grad_fn=<DivBackward0>)\n",
      "tensor(9.6037, device='cuda:0', grad_fn=<AddBackward0>)\n",
      "-----------------------------------------------------------------------------\n",
      "Epoch: 301\n",
      "tensor(1.0155, device='cuda:0', grad_fn=<DivBackward0>)\n",
      "tensor(7.9055, device='cuda:0', grad_fn=<AddBackward0>)\n",
      "-----------------------------------------------------------------------------\n",
      "Epoch: 401\n",
      "tensor(0.8772, device='cuda:0', grad_fn=<DivBackward0>)\n",
      "tensor(5.1087, device='cuda:0', grad_fn=<AddBackward0>)\n",
      "-----------------------------------------------------------------------------\n",
      "Epoch: 501\n",
      "tensor(0.8862, device='cuda:0', grad_fn=<DivBackward0>)\n",
      "tensor(5.0454, device='cuda:0', grad_fn=<AddBackward0>)\n",
      "-----------------------------------------------------------------------------\n",
      "Epoch: 601\n",
      "tensor(0.8883, device='cuda:0', grad_fn=<DivBackward0>)\n",
      "tensor(5.0200, device='cuda:0', grad_fn=<AddBackward0>)\n",
      "-----------------------------------------------------------------------------\n",
      "Epoch: 701\n",
      "tensor(0.8860, device='cuda:0', grad_fn=<DivBackward0>)\n",
      "tensor(5.0005, device='cuda:0', grad_fn=<AddBackward0>)\n",
      "-----------------------------------------------------------------------------\n",
      "Epoch: 801\n",
      "tensor(0.9141, device='cuda:0', grad_fn=<DivBackward0>)\n",
      "tensor(5.0070, device='cuda:0', grad_fn=<AddBackward0>)\n",
      "-----------------------------------------------------------------------------\n",
      "Epoch: 901\n",
      "tensor(0.8872, device='cuda:0', grad_fn=<DivBackward0>)\n",
      "tensor(4.9473, device='cuda:0', grad_fn=<AddBackward0>)\n",
      "-----------------------------------------------------------------------------\n",
      "Epoch: 1001\n",
      "tensor(0.8853, device='cuda:0', grad_fn=<DivBackward0>)\n",
      "tensor(4.9136, device='cuda:0', grad_fn=<AddBackward0>)\n",
      "-----------------------------------------------------------------------------\n",
      "Epoch: 1101\n",
      "tensor(0.8836, device='cuda:0', grad_fn=<DivBackward0>)\n",
      "tensor(4.8650, device='cuda:0', grad_fn=<AddBackward0>)\n",
      "-----------------------------------------------------------------------------\n",
      "Epoch: 1201\n",
      "tensor(0.8743, device='cuda:0', grad_fn=<DivBackward0>)\n",
      "tensor(4.7896, device='cuda:0', grad_fn=<AddBackward0>)\n",
      "-----------------------------------------------------------------------------\n",
      "Epoch: 1301\n",
      "tensor(0.8656, device='cuda:0', grad_fn=<DivBackward0>)\n",
      "tensor(4.6667, device='cuda:0', grad_fn=<AddBackward0>)\n",
      "-----------------------------------------------------------------------------\n",
      "Epoch: 1401\n",
      "tensor(0.8232, device='cuda:0', grad_fn=<DivBackward0>)\n",
      "tensor(4.4612, device='cuda:0', grad_fn=<AddBackward0>)\n",
      "-----------------------------------------------------------------------------\n",
      "Epoch: 1501\n",
      "tensor(0.8250, device='cuda:0', grad_fn=<DivBackward0>)\n",
      "tensor(4.1429, device='cuda:0', grad_fn=<AddBackward0>)\n",
      "-----------------------------------------------------------------------------\n",
      "Epoch: 1601\n",
      "tensor(0.7712, device='cuda:0', grad_fn=<DivBackward0>)\n",
      "tensor(3.6478, device='cuda:0', grad_fn=<AddBackward0>)\n",
      "-----------------------------------------------------------------------------\n",
      "Epoch: 1701\n",
      "tensor(0.6525, device='cuda:0', grad_fn=<DivBackward0>)\n",
      "tensor(2.8216, device='cuda:0', grad_fn=<AddBackward0>)\n",
      "-----------------------------------------------------------------------------\n",
      "Epoch: 1801\n",
      "tensor(0.5415, device='cuda:0', grad_fn=<DivBackward0>)\n",
      "tensor(1.9804, device='cuda:0', grad_fn=<AddBackward0>)\n",
      "-----------------------------------------------------------------------------\n",
      "Epoch: 1901\n",
      "tensor(0.4556, device='cuda:0', grad_fn=<DivBackward0>)\n",
      "tensor(1.3506, device='cuda:0', grad_fn=<AddBackward0>)\n",
      "-----------------------------------------------------------------------------\n",
      "Epoch: 2001\n",
      "tensor(0.2807, device='cuda:0', grad_fn=<DivBackward0>)\n",
      "tensor(0.7437, device='cuda:0', grad_fn=<AddBackward0>)\n",
      "-----------------------------------------------------------------------------\n",
      "Epoch: 2101\n",
      "tensor(0.1992, device='cuda:0', grad_fn=<DivBackward0>)\n",
      "tensor(0.4613, device='cuda:0', grad_fn=<AddBackward0>)\n",
      "-----------------------------------------------------------------------------\n",
      "Epoch: 2201\n",
      "tensor(0.1465, device='cuda:0', grad_fn=<DivBackward0>)\n",
      "tensor(0.3295, device='cuda:0', grad_fn=<AddBackward0>)\n",
      "-----------------------------------------------------------------------------\n",
      "Epoch: 2301\n",
      "tensor(0.0896, device='cuda:0', grad_fn=<DivBackward0>)\n",
      "tensor(0.2282, device='cuda:0', grad_fn=<AddBackward0>)\n",
      "-----------------------------------------------------------------------------\n",
      "Epoch: 2401\n",
      "tensor(0.0805, device='cuda:0', grad_fn=<DivBackward0>)\n",
      "tensor(0.1955, device='cuda:0', grad_fn=<AddBackward0>)\n",
      "-----------------------------------------------------------------------------\n",
      "Epoch: 2501\n",
      "tensor(0.0501, device='cuda:0', grad_fn=<DivBackward0>)\n",
      "tensor(0.1529, device='cuda:0', grad_fn=<AddBackward0>)\n",
      "-----------------------------------------------------------------------------\n",
      "Epoch: 2601\n",
      "tensor(0.0317, device='cuda:0', grad_fn=<DivBackward0>)\n",
      "tensor(0.2451, device='cuda:0', grad_fn=<AddBackward0>)\n",
      "-----------------------------------------------------------------------------\n",
      "Epoch: 2701\n",
      "tensor(0.0370, device='cuda:0', grad_fn=<DivBackward0>)\n",
      "tensor(0.1156, device='cuda:0', grad_fn=<AddBackward0>)\n",
      "-----------------------------------------------------------------------------\n",
      "Epoch: 2801\n",
      "tensor(0.0282, device='cuda:0', grad_fn=<DivBackward0>)\n",
      "tensor(0.2883, device='cuda:0', grad_fn=<AddBackward0>)\n",
      "-----------------------------------------------------------------------------\n",
      "Epoch: 2901\n",
      "tensor(0.0320, device='cuda:0', grad_fn=<DivBackward0>)\n",
      "tensor(0.0934, device='cuda:0', grad_fn=<AddBackward0>)\n",
      "-----------------------------------------------------------------------------\n",
      "Epoch: 3001\n",
      "tensor(0.1181, device='cuda:0', grad_fn=<DivBackward0>)\n",
      "tensor(1.4593, device='cuda:0', grad_fn=<AddBackward0>)\n",
      "-----------------------------------------------------------------------------\n",
      "Epoch: 3101\n",
      "tensor(0.0299, device='cuda:0', grad_fn=<DivBackward0>)\n",
      "tensor(0.0790, device='cuda:0', grad_fn=<AddBackward0>)\n",
      "-----------------------------------------------------------------------------\n",
      "Epoch: 3201\n",
      "tensor(0.0279, device='cuda:0', grad_fn=<DivBackward0>)\n",
      "tensor(0.0724, device='cuda:0', grad_fn=<AddBackward0>)\n",
      "-----------------------------------------------------------------------------\n",
      "Epoch: 3301\n",
      "tensor(0.0328, device='cuda:0', grad_fn=<DivBackward0>)\n",
      "tensor(0.0717, device='cuda:0', grad_fn=<AddBackward0>)\n",
      "-----------------------------------------------------------------------------\n",
      "Epoch: 3401\n",
      "tensor(0.0277, device='cuda:0', grad_fn=<DivBackward0>)\n",
      "tensor(0.0649, device='cuda:0', grad_fn=<AddBackward0>)\n",
      "-----------------------------------------------------------------------------\n",
      "Epoch: 3501\n",
      "tensor(0.0274, device='cuda:0', grad_fn=<DivBackward0>)\n",
      "tensor(0.0610, device='cuda:0', grad_fn=<AddBackward0>)\n",
      "-----------------------------------------------------------------------------\n",
      "Epoch: 3601\n",
      "tensor(0.0283, device='cuda:0', grad_fn=<DivBackward0>)\n",
      "tensor(0.0594, device='cuda:0', grad_fn=<AddBackward0>)\n",
      "-----------------------------------------------------------------------------\n",
      "Epoch: 3701\n",
      "tensor(0.0265, device='cuda:0', grad_fn=<DivBackward0>)\n",
      "tensor(0.0558, device='cuda:0', grad_fn=<AddBackward0>)\n",
      "-----------------------------------------------------------------------------\n",
      "Epoch: 3801\n",
      "tensor(0.0389, device='cuda:0', grad_fn=<DivBackward0>)\n",
      "tensor(0.0607, device='cuda:0', grad_fn=<AddBackward0>)\n",
      "-----------------------------------------------------------------------------\n",
      "Epoch: 3901\n",
      "tensor(0.0267, device='cuda:0', grad_fn=<DivBackward0>)\n",
      "tensor(0.0523, device='cuda:0', grad_fn=<AddBackward0>)\n",
      "-----------------------------------------------------------------------------\n",
      "Epoch: 4001\n",
      "tensor(0.0266, device='cuda:0', grad_fn=<DivBackward0>)\n",
      "tensor(0.0500, device='cuda:0', grad_fn=<AddBackward0>)\n",
      "-----------------------------------------------------------------------------\n",
      "Epoch: 4101\n",
      "tensor(0.0277, device='cuda:0', grad_fn=<DivBackward0>)\n",
      "tensor(0.0499, device='cuda:0', grad_fn=<AddBackward0>)\n",
      "-----------------------------------------------------------------------------\n",
      "Epoch: 4201\n",
      "tensor(0.0261, device='cuda:0', grad_fn=<DivBackward0>)\n",
      "tensor(0.0473, device='cuda:0', grad_fn=<AddBackward0>)\n",
      "-----------------------------------------------------------------------------\n",
      "Epoch: 4301\n",
      "tensor(0.0250, device='cuda:0', grad_fn=<DivBackward0>)\n",
      "tensor(0.0483, device='cuda:0', grad_fn=<AddBackward0>)\n",
      "-----------------------------------------------------------------------------\n",
      "Epoch: 4401\n",
      "tensor(0.0261, device='cuda:0', grad_fn=<DivBackward0>)\n",
      "tensor(0.0452, device='cuda:0', grad_fn=<AddBackward0>)\n",
      "-----------------------------------------------------------------------------\n",
      "Epoch: 4501\n",
      "tensor(0.0590, device='cuda:0', grad_fn=<DivBackward0>)\n",
      "tensor(0.4728, device='cuda:0', grad_fn=<AddBackward0>)\n",
      "-----------------------------------------------------------------------------\n",
      "Epoch: 4601\n",
      "tensor(0.0260, device='cuda:0', grad_fn=<DivBackward0>)\n",
      "tensor(0.0433, device='cuda:0', grad_fn=<AddBackward0>)\n",
      "-----------------------------------------------------------------------------\n",
      "Epoch: 4701\n",
      "tensor(0.0532, device='cuda:0', grad_fn=<DivBackward0>)\n",
      "tensor(0.1198, device='cuda:0', grad_fn=<AddBackward0>)\n",
      "-----------------------------------------------------------------------------\n",
      "Epoch: 4801\n",
      "tensor(0.0261, device='cuda:0', grad_fn=<DivBackward0>)\n",
      "tensor(0.0417, device='cuda:0', grad_fn=<AddBackward0>)\n",
      "-----------------------------------------------------------------------------\n",
      "Epoch: 4901\n",
      "tensor(0.0495, device='cuda:0', grad_fn=<DivBackward0>)\n",
      "tensor(0.1762, device='cuda:0', grad_fn=<AddBackward0>)\n",
      "-----------------------------------------------------------------------------\n",
      "Epoch: 5001\n",
      "tensor(0.0261, device='cuda:0', grad_fn=<DivBackward0>)\n",
      "tensor(0.0401, device='cuda:0', grad_fn=<AddBackward0>)\n",
      "-----------------------------------------------------------------------------\n",
      "Epoch: 5101\n",
      "tensor(0.0262, device='cuda:0', grad_fn=<DivBackward0>)\n",
      "tensor(0.0455, device='cuda:0', grad_fn=<AddBackward0>)\n",
      "-----------------------------------------------------------------------------\n",
      "Epoch: 5201\n",
      "tensor(0.0263, device='cuda:0', grad_fn=<DivBackward0>)\n",
      "tensor(0.0397, device='cuda:0', grad_fn=<AddBackward0>)\n",
      "-----------------------------------------------------------------------------\n",
      "Epoch: 5301\n",
      "tensor(0.0256, device='cuda:0', grad_fn=<DivBackward0>)\n",
      "tensor(0.0379, device='cuda:0', grad_fn=<AddBackward0>)\n",
      "-----------------------------------------------------------------------------\n",
      "Epoch: 5401\n",
      "tensor(0.0406, device='cuda:0', grad_fn=<DivBackward0>)\n",
      "tensor(0.3492, device='cuda:0', grad_fn=<AddBackward0>)\n",
      "-----------------------------------------------------------------------------\n",
      "Epoch: 5501\n",
      "tensor(0.0258, device='cuda:0', grad_fn=<DivBackward0>)\n",
      "tensor(0.0370, device='cuda:0', grad_fn=<AddBackward0>)\n",
      "-----------------------------------------------------------------------------\n",
      "Epoch: 5601\n",
      "tensor(0.0726, device='cuda:0', grad_fn=<DivBackward0>)\n",
      "tensor(0.2512, device='cuda:0', grad_fn=<AddBackward0>)\n",
      "-----------------------------------------------------------------------------\n",
      "Epoch: 5701\n",
      "tensor(0.0254, device='cuda:0', grad_fn=<DivBackward0>)\n",
      "tensor(0.0358, device='cuda:0', grad_fn=<AddBackward0>)\n",
      "-----------------------------------------------------------------------------\n",
      "Epoch: 5801\n",
      "tensor(0.0817, device='cuda:0', grad_fn=<DivBackward0>)\n",
      "tensor(0.3357, device='cuda:0', grad_fn=<AddBackward0>)\n",
      "-----------------------------------------------------------------------------\n",
      "Epoch: 5901\n",
      "tensor(0.0258, device='cuda:0', grad_fn=<DivBackward0>)\n",
      "tensor(0.0349, device='cuda:0', grad_fn=<AddBackward0>)\n",
      "-----------------------------------------------------------------------------\n",
      "Epoch: 6001\n",
      "tensor(0.0256, device='cuda:0', grad_fn=<DivBackward0>)\n",
      "tensor(0.0390, device='cuda:0', grad_fn=<AddBackward0>)\n",
      "-----------------------------------------------------------------------------\n",
      "Epoch: 6101\n",
      "tensor(0.0258, device='cuda:0', grad_fn=<DivBackward0>)\n",
      "tensor(0.0341, device='cuda:0', grad_fn=<AddBackward0>)\n",
      "-----------------------------------------------------------------------------\n",
      "Epoch: 6201\n",
      "tensor(0.0260, device='cuda:0', grad_fn=<DivBackward0>)\n",
      "tensor(0.0334, device='cuda:0', grad_fn=<AddBackward0>)\n",
      "-----------------------------------------------------------------------------\n",
      "Epoch: 6301\n",
      "tensor(0.0255, device='cuda:0', grad_fn=<DivBackward0>)\n",
      "tensor(0.0333, device='cuda:0', grad_fn=<AddBackward0>)\n",
      "-----------------------------------------------------------------------------\n",
      "Epoch: 6401\n",
      "tensor(0.0252, device='cuda:0', grad_fn=<DivBackward0>)\n",
      "tensor(0.0320, device='cuda:0', grad_fn=<AddBackward0>)\n",
      "-----------------------------------------------------------------------------\n",
      "Epoch: 6501\n",
      "tensor(0.0283, device='cuda:0', grad_fn=<DivBackward0>)\n",
      "tensor(0.0337, device='cuda:0', grad_fn=<AddBackward0>)\n",
      "-----------------------------------------------------------------------------\n",
      "Epoch: 6601\n",
      "tensor(0.0252, device='cuda:0', grad_fn=<DivBackward0>)\n",
      "tensor(0.0316, device='cuda:0', grad_fn=<AddBackward0>)\n",
      "-----------------------------------------------------------------------------\n",
      "Epoch: 6701\n",
      "tensor(0.0520, device='cuda:0', grad_fn=<DivBackward0>)\n",
      "tensor(0.2495, device='cuda:0', grad_fn=<AddBackward0>)\n",
      "-----------------------------------------------------------------------------\n",
      "Epoch: 6801\n",
      "tensor(0.0252, device='cuda:0', grad_fn=<DivBackward0>)\n",
      "tensor(0.0310, device='cuda:0', grad_fn=<AddBackward0>)\n",
      "-----------------------------------------------------------------------------\n",
      "Epoch: 6901\n",
      "tensor(0.0626, device='cuda:0', grad_fn=<DivBackward0>)\n",
      "tensor(0.0772, device='cuda:0', grad_fn=<AddBackward0>)\n",
      "-----------------------------------------------------------------------------\n",
      "Epoch: 7001\n",
      "tensor(0.0256, device='cuda:0', grad_fn=<DivBackward0>)\n",
      "tensor(0.0307, device='cuda:0', grad_fn=<AddBackward0>)\n"
     ]
    },
    {
     "ename": "KeyboardInterrupt",
     "evalue": "",
     "output_type": "error",
     "traceback": [
      "\u001b[0;31m---------------------------------------------------------------------------\u001b[0m",
      "\u001b[0;31mKeyboardInterrupt\u001b[0m                         Traceback (most recent call last)",
      "\u001b[0;32m<ipython-input-39-8018469e5583>\u001b[0m in \u001b[0;36m<cell line: 4>\u001b[0;34m()\u001b[0m\n\u001b[1;32m     77\u001b[0m \u001b[0;31m##------------------------------------Optimize Loss-----------------------------------------##\u001b[0m\u001b[0;34m\u001b[0m\u001b[0;34m\u001b[0m\u001b[0m\n\u001b[1;32m     78\u001b[0m \u001b[0;34m\u001b[0m\u001b[0m\n\u001b[0;32m---> 79\u001b[0;31m     \u001b[0mloss\u001b[0m\u001b[0;34m.\u001b[0m\u001b[0mbackward\u001b[0m\u001b[0;34m(\u001b[0m\u001b[0;34m)\u001b[0m\u001b[0;34m\u001b[0m\u001b[0;34m\u001b[0m\u001b[0m\n\u001b[0m\u001b[1;32m     80\u001b[0m     \u001b[0moptimizer\u001b[0m\u001b[0;34m.\u001b[0m\u001b[0mstep\u001b[0m\u001b[0;34m(\u001b[0m\u001b[0;34m)\u001b[0m\u001b[0;34m\u001b[0m\u001b[0;34m\u001b[0m\u001b[0m\n\u001b[1;32m     81\u001b[0m \u001b[0;34m\u001b[0m\u001b[0m\n",
      "\u001b[0;32m/usr/local/lib/python3.10/dist-packages/torch/_tensor.py\u001b[0m in \u001b[0;36mbackward\u001b[0;34m(self, gradient, retain_graph, create_graph, inputs)\u001b[0m\n\u001b[1;32m    579\u001b[0m                 \u001b[0minputs\u001b[0m\u001b[0;34m=\u001b[0m\u001b[0minputs\u001b[0m\u001b[0;34m,\u001b[0m\u001b[0;34m\u001b[0m\u001b[0;34m\u001b[0m\u001b[0m\n\u001b[1;32m    580\u001b[0m             )\n\u001b[0;32m--> 581\u001b[0;31m         torch.autograd.backward(\n\u001b[0m\u001b[1;32m    582\u001b[0m             \u001b[0mself\u001b[0m\u001b[0;34m,\u001b[0m \u001b[0mgradient\u001b[0m\u001b[0;34m,\u001b[0m \u001b[0mretain_graph\u001b[0m\u001b[0;34m,\u001b[0m \u001b[0mcreate_graph\u001b[0m\u001b[0;34m,\u001b[0m \u001b[0minputs\u001b[0m\u001b[0;34m=\u001b[0m\u001b[0minputs\u001b[0m\u001b[0;34m\u001b[0m\u001b[0;34m\u001b[0m\u001b[0m\n\u001b[1;32m    583\u001b[0m         )\n",
      "\u001b[0;32m/usr/local/lib/python3.10/dist-packages/torch/autograd/__init__.py\u001b[0m in \u001b[0;36mbackward\u001b[0;34m(tensors, grad_tensors, retain_graph, create_graph, grad_variables, inputs)\u001b[0m\n\u001b[1;32m    345\u001b[0m     \u001b[0;31m# some Python versions print out the first line of a multi-line function\u001b[0m\u001b[0;34m\u001b[0m\u001b[0;34m\u001b[0m\u001b[0m\n\u001b[1;32m    346\u001b[0m     \u001b[0;31m# calls in the traceback and some print out the last line\u001b[0m\u001b[0;34m\u001b[0m\u001b[0;34m\u001b[0m\u001b[0m\n\u001b[0;32m--> 347\u001b[0;31m     _engine_run_backward(\n\u001b[0m\u001b[1;32m    348\u001b[0m         \u001b[0mtensors\u001b[0m\u001b[0;34m,\u001b[0m\u001b[0;34m\u001b[0m\u001b[0;34m\u001b[0m\u001b[0m\n\u001b[1;32m    349\u001b[0m         \u001b[0mgrad_tensors_\u001b[0m\u001b[0;34m,\u001b[0m\u001b[0;34m\u001b[0m\u001b[0;34m\u001b[0m\u001b[0m\n",
      "\u001b[0;32m/usr/local/lib/python3.10/dist-packages/torch/autograd/graph.py\u001b[0m in \u001b[0;36m_engine_run_backward\u001b[0;34m(t_outputs, *args, **kwargs)\u001b[0m\n\u001b[1;32m    823\u001b[0m         \u001b[0munregister_hooks\u001b[0m \u001b[0;34m=\u001b[0m \u001b[0m_register_logging_hooks_on_whole_graph\u001b[0m\u001b[0;34m(\u001b[0m\u001b[0mt_outputs\u001b[0m\u001b[0;34m)\u001b[0m\u001b[0;34m\u001b[0m\u001b[0;34m\u001b[0m\u001b[0m\n\u001b[1;32m    824\u001b[0m     \u001b[0;32mtry\u001b[0m\u001b[0;34m:\u001b[0m\u001b[0;34m\u001b[0m\u001b[0;34m\u001b[0m\u001b[0m\n\u001b[0;32m--> 825\u001b[0;31m         return Variable._execution_engine.run_backward(  # Calls into the C++ engine to run the backward pass\n\u001b[0m\u001b[1;32m    826\u001b[0m             \u001b[0mt_outputs\u001b[0m\u001b[0;34m,\u001b[0m \u001b[0;34m*\u001b[0m\u001b[0margs\u001b[0m\u001b[0;34m,\u001b[0m \u001b[0;34m**\u001b[0m\u001b[0mkwargs\u001b[0m\u001b[0;34m\u001b[0m\u001b[0;34m\u001b[0m\u001b[0m\n\u001b[1;32m    827\u001b[0m         )  # Calls into the C++ engine to run the backward pass\n",
      "\u001b[0;31mKeyboardInterrupt\u001b[0m: "
     ]
    }
   ],
   "source": [
    "iterations = 100000\n",
    "previous_validation_loss = 99999999.0\n",
    "\n",
    "for epoch in range(iterations):\n",
    "    optimizer.zero_grad()\n",
    "\n",
    "##-------------------------------Condition predict output------------------------------------##\n",
    "\n",
    "    net_x0_out = net_SP(C_x_0)\n",
    "    net_xN_out = net_SP(C_x_N)\n",
    "\n",
    "# ##------------------------------------Condition Loss-----------------------------------------##\n",
    "    mse_x0t = mse_cost_function(net_x0_out, pt_u_x0)\n",
    "    mse_xNt = mse_cost_function(net_xN_out, pt_u_xN)\n",
    "\n",
    "##------------------------------------Compute Loss-----------------------------------------##\n",
    "\n",
    "    f_out = f(pt_x_collocation, net_SP)\n",
    "    mse_f = mse_cost_function(f_out, pt_all_zeros)\n",
    "    loss = 10*mse_f + 20*mse_x0t + 20*mse_xNt\n",
    "\n",
    "##------------------------------------Optimize Loss-----------------------------------------##\n",
    "\n",
    "    loss.backward()\n",
    "    optimizer.step()\n",
    "\n",
    "##----------------------------Result-----------------------------##\n",
    "    if (epoch) % 50 == 1:\n",
    "\n",
    "        pt_u3 = net_SP(N*pt_x)\n",
    "        Solution = -1*torch.exp(-1000000*pt_x)-pt_x+1\n",
    "\n",
    "        gap3 = torch.sqrt(((Solution - pt_u3)**2).mean())/torch.sqrt((Solution**2).mean())\n",
    "\n",
    "    if (epoch) % 100 == 1:\n",
    "        print(\"-----------------------------------------------------------------------------\")\n",
    "        print(\"Epoch:\",epoch)\n",
    "        print(gap3)\n",
    "        print(loss)\n"
   ]
  },
  {
   "cell_type": "markdown",
   "metadata": {
    "id": "vWYCXeOZApwA"
   },
   "source": [
    "#Plotting Prediction"
   ]
  },
  {
   "cell_type": "code",
   "execution_count": null,
   "metadata": {
    "colab": {
     "base_uri": "https://localhost:8080/",
     "height": 487
    },
    "id": "yOMLierwwe1W",
    "outputId": "f9a5fe85-13f2-4dd8-d11c-a95f99476b68"
   },
   "outputs": [
    {
     "name": "stderr",
     "output_type": "stream",
     "text": [
      "<ipython-input-17-79ab09395eee>:35: RuntimeWarning: overflow encountered in exp\n",
      "  plt.plot(ms_x[0],1-ms_x[0]-np.exp(-1000000*ms_x[0]),'r--')\n"
     ]
    },
    {
     "data": {
      "image/png": "[encoded data removed]",
      "text/plain": [
       "<Figure size 500x500 with 1 Axes>"
      ]
     },
     "metadata": {},
     "output_type": "display_data"
    }
   ],
   "source": [
    "from mpl_toolkits.mplot3d import Axes3D\n",
    "import matplotlib.pyplot as plt\n",
    "from matplotlib import cm\n",
    "from matplotlib.ticker import LinearLocator, FormatStrFormatter\n",
    "import numpy as np\n",
    "\n",
    "\n",
    "fig = plt.figure(figsize = (5,5)) \n",
    "ax = fig.add_subplot()\n",
    "\n",
    "x=np.arange(-0.1,1.1,0.0001) \n",
    "\n",
    "ms_x = np.meshgrid(x)\n",
    "\n",
    "x = np.ravel(ms_x).reshape(-1,1)\n",
    "\n",
    "pt_x0 = Variable(torch.from_numpy(x).float(), requires_grad=False).to(device)\n",
    "\n",
    "pt_u0 = net_SP(N*pt_x0)\n",
    "\n",
    "u = pt_u0.data.cpu().numpy()\n",
    "\n",
    "ms_u = []\n",
    "\n",
    "for i in range(len(u)):\n",
    "  ms_u.append(u[i][0])\n",
    "  #print(u[i][0])\n",
    "\n",
    "ns_u1 = []\n",
    "\n",
    "ns_u1.append(ms_u)\n",
    "\n",
    "surf1 = ax.plot(ms_x[0],ns_u1[0],'g')\n",
    "plt.plot(ms_x[0],1-ms_x[0]-np.exp(-1000000*ms_x[0]),'r--')\n",
    "\n",
    "plt.ylim(0,1)\n",
    "plt.xlim(-0.1,1.01)\n",
    "plt.show()"
   ]
  }
 ],
 "metadata": {
  "accelerator": "GPU",
  "colab": {
   "gpuType": "T4",
   "provenance": []
  },
  "kernelspec": {
   "display_name": "Python 3",
   "name": "python3"
  },
  "language_info": {
   "name": "python"
  }
 },
 "nbformat": 4,
 "nbformat_minor": 0
}
