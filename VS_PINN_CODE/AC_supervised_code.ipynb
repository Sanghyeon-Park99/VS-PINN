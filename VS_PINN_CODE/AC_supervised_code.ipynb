{
 "cells": [
  {
   "cell_type": "markdown",
   "metadata": {
    "id": "giKCttwtEa4M"
   },
   "source": [
    "#Import"
   ]
  },
  {
   "cell_type": "code",
   "execution_count": null,
   "metadata": {
    "colab": {
     "base_uri": "https://localhost:8080/"
    },
    "id": "I9k1MkzUWRHU",
    "outputId": "a4729a04-09d3-4a43-f1c8-320446eaf49b"
   },
   "outputs": [
    {
     "name": "stdout",
     "output_type": "stream",
     "text": [
      "Collecting spicy\n",
      "  Downloading spicy-0.16.0-py2.py3-none-any.whl (1.7 kB)\n",
      "Requirement already satisfied: scipy in /usr/local/lib/python3.10/dist-packages (from spicy) (1.11.4)\n",
      "Requirement already satisfied: numpy<1.28.0,>=1.21.6 in /usr/local/lib/python3.10/dist-packages (from scipy->spicy) (1.25.2)\n",
      "Installing collected packages: spicy\n",
      "Successfully installed spicy-0.16.0\n"
     ]
    }
   ],
   "source": [
    "!pip install spicy"
   ]
  },
  {
   "cell_type": "code",
   "execution_count": null,
   "metadata": {
    "id": "sLi8d_ndEVmG"
   },
   "outputs": [],
   "source": [
    "import numpy as np\n",
    "\n",
    "import torch\n",
    "import torch.nn as nn\n",
    "from torch.autograd import Variable\n",
    "\n",
    "device = torch.device(\"cuda:0\" if torch.cuda.is_available() else \"cpu\")"
   ]
  },
  {
   "cell_type": "markdown",
   "metadata": {
    "id": "OTyg6ElYeJo8"
   },
   "source": [
    "#Sample supervised data"
   ]
  },
  {
   "cell_type": "code",
   "execution_count": null,
   "metadata": {
    "colab": {
     "base_uri": "https://localhost:8080/"
    },
    "id": "YdEMa2ZZMkjT",
    "outputId": "51717d3f-258c-4751-f6ba-10a0b31b04df"
   },
   "outputs": [
    {
     "name": "stdout",
     "output_type": "stream",
     "text": [
      "[181, 315, 459, 376, 90, 282, 249, 287, 421, 490, 17, 410, 214, 380, 219, 388, 329, 461, 261, 132, 309, 437, 16, 408, 224, 152, 338, 263, 52, 252, 41, 466, 467, 236, 13, 186, 476, 270, 240, 278, 114, 165, 389, 211, 414, 299, 36, 162, 28, 150, 330, 220, 210, 336, 259, 144, 99, 80, 292, 201, 123, 227, 137, 456, 355, 378, 349, 356, 384, 451, 129, 498, 301, 177, 272, 67, 248, 145, 411, 295, 506, 511, 189, 238, 197, 439, 475, 400, 105, 213, 447, 241, 468, 151, 392, 474, 365, 312, 4, 332, 374, 391, 480, 9, 398, 341, 14, 487, 119, 322, 143, 243, 452, 291, 93, 194, 483, 416, 185, 82, 160, 25, 445, 229, 345, 103, 212, 73, 218, 314, 113, 353, 61, 484, 34, 1, 260, 264, 51, 242, 161, 159, 497, 344, 26, 284, 193, 472, 43, 303, 20, 386, 96, 47, 351, 373, 112, 469, 440, 271, 297, 230, 148, 276, 46, 58, 471, 153, 7, 203, 363, 136, 174, 204, 488, 375, 86, 319, 331, 109, 415, 173, 42, 434, 478, 76, 337, 154, 450, 247, 465, 431, 95, 427, 281, 206, 397, 326, 444, 106]\n",
      "200\n"
     ]
    }
   ],
   "source": [
    "import random\n",
    "\n",
    "numbers = list(range(0, 512))\n",
    "\n",
    "random_numbers = random.sample(numbers, 200)\n",
    "\n",
    "print(random_numbers)\n",
    "\n",
    "a = 0\n",
    "\n",
    "for i in random_numbers:\n",
    "    for j in random_numbers:\n",
    "        if i == j :\n",
    "            a += 1\n",
    "print(a)"
   ]
  },
  {
   "cell_type": "code",
   "execution_count": null,
   "metadata": {
    "colab": {
     "base_uri": "https://localhost:8080/"
    },
    "id": "xPCVE2NLzIoB",
    "outputId": "75f42516-bdcc-4186-9ecf-0af4988a3735"
   },
   "outputs": [
    {
     "name": "stdout",
     "output_type": "stream",
     "text": [
      "200\n"
     ]
    }
   ],
   "source": [
    "random_numbers = [181, 315, 459, 376, 90, 282, 249, 287, 421, 490, 17, 410, 214, 380, 219, 388, 329, 461, 261, 132, 309, 437, 16, 408, 224, 152, 338, 263, 52, 252, 41, 466, 467, 236, 13, 186, 476, 270, 240, 278, 114, 165, 389, 211, 414, 299, 36, 162, 28, 150, 330, 220, 210, 336, 259, 144, 99, 80, 292, 201, 123, 227, 137, 456, 355, 378, 349, 356, 384, 451, 129, 498, 301, 177, 272, 67, 248, 145, 411, 295, 506, 511, 189, 238, 197, 439, 475, 400, 105, 213, 447, 241, 468, 151, 392, 474, 365, 312, 4, 332, 374, 391, 480, 9, 398, 341, 14, 487, 119, 322, 143, 243, 452, 291, 93, 194, 483, 416, 185, 82, 160, 25, 445, 229, 345, 103, 212, 73, 218, 314, 113, 353, 61, 484, 34, 1, 260, 264, 51, 242, 161, 159, 497, 344, 26, 284, 193, 472, 43, 303, 20, 386, 96, 47, 351, 373, 112, 469, 440, 271, 297, 230, 148, 276, 46, 58, 471, 153, 7, 203, 363, 136, 174, 204, 488, 375, 86, 319, 331, 109, 415, 173, 42, 434, 478, 76, 337, 154, 450, 247, 465, 431, 95, 427, 281, 206, 397, 326, 444, 106]\n",
    "print(len(random_numbers))"
   ]
  },
  {
   "cell_type": "markdown",
   "metadata": {
    "id": "uQS-4yrJep_v"
   },
   "source": [
    "#Load solution data"
   ]
  },
  {
   "cell_type": "code",
   "execution_count": null,
   "metadata": {
    "id": "4sE5l_BcV-dI"
   },
   "outputs": [],
   "source": [
    "from spicy import io\n",
    "\n",
    "mat_file = io.loadmat('/content/AC.mat')"
   ]
  },
  {
   "cell_type": "code",
   "execution_count": null,
   "metadata": {
    "colab": {
     "base_uri": "https://localhost:8080/"
    },
    "id": "duQCRTr0pR0G",
    "outputId": "e5170e12-06a1-4f51-8ddb-14d60ce2f9e7"
   },
   "outputs": [
    {
     "data": {
      "text/plain": [
       "torch.Size([512, 201])"
      ]
     },
     "execution_count": 5,
     "metadata": {},
     "output_type": "execute_result"
    }
   ],
   "source": [
    "Solution = mat_file['uu']\n",
    "Solution1 = Variable(torch.from_numpy(Solution).float(), requires_grad=False).to(device)\n",
    "\n",
    "Solution1.size()"
   ]
  },
  {
   "cell_type": "code",
   "execution_count": null,
   "metadata": {
    "id": "iAG4-fmVg0b3"
   },
   "outputs": [],
   "source": [
    "x1 = mat_file['x']\n",
    "t1 = mat_file['tt']\n",
    "\n",
    "ms_t1, ms_x1= np.meshgrid(t1,x1)\n",
    "\n",
    "ob_x1 = np.ravel(ms_x1).reshape(-1,1)\n",
    "ob_t1 = np.ravel(ms_t1).reshape(-1,1)\n",
    "\n",
    "label_x = Variable(torch.from_numpy(ob_x1).float(), requires_grad=False).to(device)\n",
    "label_t = Variable(torch.from_numpy(ob_t1).float(), requires_grad=False).to(device)"
   ]
  },
  {
   "cell_type": "markdown",
   "metadata": {
    "id": "c0Agvukpgqc_"
   },
   "source": [
    "# Supervise dataset"
   ]
  },
  {
   "cell_type": "code",
   "execution_count": null,
   "metadata": {
    "colab": {
     "base_uri": "https://localhost:8080/"
    },
    "id": "_KPVqb24B4qX",
    "outputId": "a72f14b3-5267-4f0a-f857-a5f243894a59"
   },
   "outputs": [
    {
     "name": "stdout",
     "output_type": "stream",
     "text": [
      "[[ 8.54516710e-02]\n",
      " [ 6.55017993e-02]\n",
      " [-6.89851106e-01]\n",
      " [ 3.53972505e-02]\n",
      " [-3.02614146e-01]\n",
      " [ 1.61698757e-02]\n",
      " [ 1.26040643e-03]\n",
      " [ 2.24633591e-02]\n",
      " [-2.92273893e-01]\n",
      " [-9.13022677e-01]\n",
      " [-9.37326374e-01]\n",
      " [-1.85213878e-01]\n",
      " [ 3.86024334e-02]\n",
      " [ 1.88776369e-02]\n",
      " [ 3.09549135e-02]\n",
      " [-2.16111527e-02]\n",
      " [ 8.35525280e-02]\n",
      " [-7.08113365e-01]\n",
      " [ 6.60345861e-04]\n",
      " [ 1.88776369e-02]\n",
      " [ 5.61782353e-02]\n",
      " [-4.63907789e-01]\n",
      " [-9.41839976e-01]\n",
      " [-1.67327527e-01]\n",
      " [ 2.38142141e-02]\n",
      " [ 7.87537411e-02]\n",
      " [ 9.02192802e-02]\n",
      " [ 1.26040643e-03]\n",
      " [-6.99043854e-01]\n",
      " [ 4.34761648e-04]\n",
      " [-7.91621133e-01]\n",
      " [-7.51538028e-01]\n",
      " [-7.59826532e-01]\n",
      " [ 9.78820076e-03]\n",
      " [-9.54716237e-01]\n",
      " [ 8.03240644e-02]\n",
      " [-8.28271855e-01]\n",
      " [ 4.88829919e-03]\n",
      " [ 6.34566795e-03]\n",
      " [ 1.17604982e-02]\n",
      " [-8.66264667e-02]\n",
      " [ 9.10761019e-02]\n",
      " [-2.73881601e-02]\n",
      " [ 4.33502209e-02]\n",
      " [-2.22554632e-01]\n",
      " [ 4.01751632e-02]\n",
      " [-8.28271855e-01]\n",
      " [ 8.97869898e-02]\n",
      " [-8.79833030e-01]\n",
      " [ 7.51754767e-02]\n",
      " [ 8.45289175e-02]\n",
      " [ 2.94800654e-02]\n",
      " [ 4.49490062e-02]\n",
      " [ 8.91818287e-02]\n",
      " [ 2.59094369e-04]\n",
      " [ 6.14036629e-02]\n",
      " [-2.13032296e-01]\n",
      " [-4.09420583e-01]\n",
      " [ 2.94800654e-02]\n",
      " [ 5.93410323e-02]\n",
      " [-2.73881601e-02]\n",
      " [ 1.98499782e-02]\n",
      " [ 3.91520239e-02]\n",
      " [-6.61560094e-01]\n",
      " [ 8.56377555e-02]\n",
      " [ 2.74402883e-02]\n",
      " [ 9.03123451e-02]\n",
      " [ 8.44882519e-02]\n",
      " [-1.03578441e-04]\n",
      " [-6.12226361e-01]\n",
      " [ 4.87641429e-03]\n",
      " [-9.50533243e-01]\n",
      " [ 4.33502209e-02]\n",
      " [ 8.85611555e-02]\n",
      " [ 6.34566795e-03]\n",
      " [-5.50048935e-01]\n",
      " [ 1.63433836e-03]\n",
      " [ 6.40266446e-02]\n",
      " [-1.94358222e-01]\n",
      " [ 3.39640668e-02]\n",
      " [-9.81095444e-01]\n",
      " [-9.96455610e-01]\n",
      " [ 7.66936992e-02]\n",
      " [ 7.98099801e-03]\n",
      " [ 6.55017993e-02]\n",
      " [-4.85650909e-01]\n",
      " [-8.21217043e-01]\n",
      " [-1.01546903e-01]\n",
      " [-1.58591686e-01]\n",
      " [ 4.01751632e-02]\n",
      " [-5.71079504e-01]\n",
      " [ 5.59438454e-03]\n",
      " [-7.67979888e-01]\n",
      " [ 7.70255678e-02]\n",
      " [-4.56857699e-02]\n",
      " [-8.14024741e-01]\n",
      " [ 6.88736756e-02]\n",
      " [ 6.09049078e-02]\n",
      " [-9.87747950e-01]\n",
      " [ 8.63185339e-02]\n",
      " [ 4.27596125e-02]\n",
      " [-3.94252811e-02]\n",
      " [-8.55126043e-01]\n",
      " [-9.70395551e-01]\n",
      " [-8.66264667e-02]\n",
      " [ 9.12317654e-02]\n",
      " [-9.50533243e-01]\n",
      " [-8.96994725e-01]\n",
      " [-5.21075836e-02]\n",
      " [ 7.54046584e-02]\n",
      " [ 5.86452346e-02]\n",
      " [ 4.22806189e-03]\n",
      " [-6.22294161e-01]\n",
      " [ 2.80270902e-02]\n",
      " [-2.71853457e-01]\n",
      " [ 6.99126352e-02]\n",
      " [-8.73854197e-01]\n",
      " [-2.41949917e-01]\n",
      " [ 8.14478552e-02]\n",
      " [-3.87709470e-01]\n",
      " [ 8.84383235e-02]\n",
      " [-8.96994725e-01]\n",
      " [-5.50048935e-01]\n",
      " [ 1.73629431e-02]\n",
      " [ 9.14720213e-02]\n",
      " [-1.76202587e-01]\n",
      " [ 4.17583454e-02]\n",
      " [-4.85650909e-01]\n",
      " [ 3.24501037e-02]\n",
      " [ 6.39873676e-02]\n",
      " [-9.40081012e-02]\n",
      " [ 8.76106433e-02]\n",
      " [-6.12226361e-01]\n",
      " [-8.79833030e-01]\n",
      " [-8.41970749e-01]\n",
      " [-9.96455610e-01]\n",
      " [ 4.34761648e-04]\n",
      " [ 1.63433836e-03]\n",
      " [-7.08113365e-01]\n",
      " [ 4.88829919e-03]\n",
      " [ 8.91630450e-02]\n",
      " [ 8.76106433e-02]\n",
      " [-9.46241747e-01]\n",
      " [ 9.15376100e-02]\n",
      " [-8.91401990e-01]\n",
      " [ 1.85900441e-02]\n",
      " [ 7.13316496e-02]\n",
      " [-7.99226827e-01]\n",
      " [-7.75997220e-01]\n",
      " [ 4.65528853e-02]\n",
      " [-9.23097744e-01]\n",
      " [-1.05384049e-02]\n",
      " [-2.41949917e-01]\n",
      " [-7.43115476e-01]\n",
      " [ 8.91630450e-02]\n",
      " [ 4.62215471e-02]\n",
      " [-1.01546903e-01]\n",
      " [-7.75997220e-01]\n",
      " [-4.96485857e-01]\n",
      " [ 5.59438454e-03]\n",
      " [ 3.70418809e-02]\n",
      " [ 1.61698757e-02]\n",
      " [ 7.11015070e-02]\n",
      " [ 9.78820076e-03]\n",
      " [-7.51538028e-01]\n",
      " [-6.42136084e-01]\n",
      " [-7.91621133e-01]\n",
      " [ 8.03620291e-02]\n",
      " [-9.77626579e-01]\n",
      " [ 5.61782353e-02]\n",
      " [ 7.32014518e-02]\n",
      " [ 3.53972505e-02]\n",
      " [ 9.02192802e-02]\n",
      " [ 5.45833518e-02]\n",
      " [-9.02461435e-01]\n",
      " [ 3.91520239e-02]\n",
      " [-3.44713050e-01]\n",
      " [ 7.13316496e-02]\n",
      " [ 8.54516710e-02]\n",
      " [-1.25092982e-01]\n",
      " [-2.32195241e-01]\n",
      " [ 9.06315292e-02]\n",
      " [-7.83877805e-01]\n",
      " [-4.31205436e-01]\n",
      " [-8.41970749e-01]\n",
      " [-4.53012280e-01]\n",
      " [ 8.97352911e-02]\n",
      " [ 8.18524911e-02]\n",
      " [-6.02066358e-01]\n",
      " [ 2.05709853e-03]\n",
      " [-7.43115476e-01]\n",
      " [-3.98552586e-01]\n",
      " [-2.51814269e-01]\n",
      " [-3.55393195e-01]\n",
      " [ 1.50119985e-02]\n",
      " [ 5.13765491e-02]\n",
      " [-7.94030763e-02]\n",
      " [ 8.03240644e-02]\n",
      " [-5.39437710e-01]\n",
      " [-1.49997834e-01]]\n",
      "[[-0.29296875]\n",
      " [ 0.23046875]\n",
      " [ 0.79296875]\n",
      " [ 0.46875   ]\n",
      " [-0.6484375 ]\n",
      " [ 0.1015625 ]\n",
      " [-0.02734375]\n",
      " [ 0.12109375]\n",
      " [ 0.64453125]\n",
      " [ 0.9140625 ]\n",
      " [-0.93359375]\n",
      " [ 0.6015625 ]\n",
      " [-0.1640625 ]\n",
      " [ 0.484375  ]\n",
      " [-0.14453125]\n",
      " [ 0.515625  ]\n",
      " [ 0.28515625]\n",
      " [ 0.80078125]\n",
      " [ 0.01953125]\n",
      " [-0.484375  ]\n",
      " [ 0.20703125]\n",
      " [ 0.70703125]\n",
      " [-0.9375    ]\n",
      " [ 0.59375   ]\n",
      " [-0.125     ]\n",
      " [-0.40625   ]\n",
      " [ 0.3203125 ]\n",
      " [ 0.02734375]\n",
      " [-0.796875  ]\n",
      " [-0.015625  ]\n",
      " [-0.83984375]\n",
      " [ 0.8203125 ]\n",
      " [ 0.82421875]\n",
      " [-0.078125  ]\n",
      " [-0.94921875]\n",
      " [-0.2734375 ]\n",
      " [ 0.859375  ]\n",
      " [ 0.0546875 ]\n",
      " [-0.0625    ]\n",
      " [ 0.0859375 ]\n",
      " [-0.5546875 ]\n",
      " [-0.35546875]\n",
      " [ 0.51953125]\n",
      " [-0.17578125]\n",
      " [ 0.6171875 ]\n",
      " [ 0.16796875]\n",
      " [-0.859375  ]\n",
      " [-0.3671875 ]\n",
      " [-0.890625  ]\n",
      " [-0.4140625 ]\n",
      " [ 0.2890625 ]\n",
      " [-0.140625  ]\n",
      " [-0.1796875 ]\n",
      " [ 0.3125    ]\n",
      " [ 0.01171875]\n",
      " [-0.4375    ]\n",
      " [-0.61328125]\n",
      " [-0.6875    ]\n",
      " [ 0.140625  ]\n",
      " [-0.21484375]\n",
      " [-0.51953125]\n",
      " [-0.11328125]\n",
      " [-0.46484375]\n",
      " [ 0.78125   ]\n",
      " [ 0.38671875]\n",
      " [ 0.4765625 ]\n",
      " [ 0.36328125]\n",
      " [ 0.390625  ]\n",
      " [ 0.5       ]\n",
      " [ 0.76171875]\n",
      " [-0.49609375]\n",
      " [ 0.9453125 ]\n",
      " [ 0.17578125]\n",
      " [-0.30859375]\n",
      " [ 0.0625    ]\n",
      " [-0.73828125]\n",
      " [-0.03125   ]\n",
      " [-0.43359375]\n",
      " [ 0.60546875]\n",
      " [ 0.15234375]\n",
      " [ 0.9765625 ]\n",
      " [ 0.99609375]\n",
      " [-0.26171875]\n",
      " [-0.0703125 ]\n",
      " [-0.23046875]\n",
      " [ 0.71484375]\n",
      " [ 0.85546875]\n",
      " [ 0.5625    ]\n",
      " [-0.58984375]\n",
      " [-0.16796875]\n",
      " [ 0.74609375]\n",
      " [-0.05859375]\n",
      " [ 0.828125  ]\n",
      " [-0.41015625]\n",
      " [ 0.53125   ]\n",
      " [ 0.8515625 ]\n",
      " [ 0.42578125]\n",
      " [ 0.21875   ]\n",
      " [-0.984375  ]\n",
      " [ 0.296875  ]\n",
      " [ 0.4609375 ]\n",
      " [ 0.52734375]\n",
      " [ 0.875     ]\n",
      " [-0.96484375]\n",
      " [ 0.5546875 ]\n",
      " [ 0.33203125]\n",
      " [-0.9453125 ]\n",
      " [ 0.90234375]\n",
      " [-0.53515625]\n",
      " [ 0.2578125 ]\n",
      " [-0.44140625]\n",
      " [-0.05078125]\n",
      " [ 0.765625  ]\n",
      " [ 0.13671875]\n",
      " [-0.63671875]\n",
      " [-0.2421875 ]\n",
      " [ 0.88671875]\n",
      " [ 0.625     ]\n",
      " [-0.27734375]\n",
      " [-0.6796875 ]\n",
      " [-0.375     ]\n",
      " [-0.90234375]\n",
      " [ 0.73828125]\n",
      " [-0.10546875]\n",
      " [ 0.34765625]\n",
      " [-0.59765625]\n",
      " [-0.171875  ]\n",
      " [-0.71484375]\n",
      " [-0.1484375 ]\n",
      " [ 0.2265625 ]\n",
      " [-0.55859375]\n",
      " [ 0.37890625]\n",
      " [-0.76171875]\n",
      " [ 0.890625  ]\n",
      " [-0.8671875 ]\n",
      " [-0.99609375]\n",
      " [ 0.015625  ]\n",
      " [ 0.03125   ]\n",
      " [-0.80078125]\n",
      " [-0.0546875 ]\n",
      " [-0.37109375]\n",
      " [-0.37890625]\n",
      " [ 0.94140625]\n",
      " [ 0.34375   ]\n",
      " [-0.8984375 ]\n",
      " [ 0.109375  ]\n",
      " [-0.24609375]\n",
      " [ 0.84375   ]\n",
      " [-0.83203125]\n",
      " [ 0.18359375]\n",
      " [-0.921875  ]\n",
      " [ 0.5078125 ]\n",
      " [-0.625     ]\n",
      " [-0.81640625]\n",
      " [ 0.37109375]\n",
      " [ 0.45703125]\n",
      " [-0.5625    ]\n",
      " [ 0.83203125]\n",
      " [ 0.71875   ]\n",
      " [ 0.05859375]\n",
      " [ 0.16015625]\n",
      " [-0.1015625 ]\n",
      " [-0.421875  ]\n",
      " [ 0.078125  ]\n",
      " [-0.8203125 ]\n",
      " [-0.7734375 ]\n",
      " [ 0.83984375]\n",
      " [-0.40234375]\n",
      " [-0.97265625]\n",
      " [-0.20703125]\n",
      " [ 0.41796875]\n",
      " [-0.46875   ]\n",
      " [-0.3203125 ]\n",
      " [-0.203125  ]\n",
      " [ 0.90625   ]\n",
      " [ 0.46484375]\n",
      " [-0.6640625 ]\n",
      " [ 0.24609375]\n",
      " [ 0.29296875]\n",
      " [-0.57421875]\n",
      " [ 0.62109375]\n",
      " [-0.32421875]\n",
      " [-0.8359375 ]\n",
      " [ 0.6953125 ]\n",
      " [ 0.8671875 ]\n",
      " [-0.703125  ]\n",
      " [ 0.31640625]\n",
      " [-0.3984375 ]\n",
      " [ 0.7578125 ]\n",
      " [-0.03515625]\n",
      " [ 0.81640625]\n",
      " [ 0.68359375]\n",
      " [-0.62890625]\n",
      " [ 0.66796875]\n",
      " [ 0.09765625]\n",
      " [-0.1953125 ]\n",
      " [ 0.55078125]\n",
      " [ 0.2734375 ]\n",
      " [ 0.734375  ]\n",
      " [-0.5859375 ]]\n"
     ]
    }
   ],
   "source": [
    "sv_data1 = mat_file[\"uu\"][:,20]\n",
    "sv_data = []\n",
    "sv_data_array = np.array([])\n",
    "\n",
    "sv_point1 = mat_file[\"x\"][0]\n",
    "sv_point = []\n",
    "sv_point_array = np.array([])\n",
    "\n",
    "for i in random_numbers:\n",
    "    sv_data.append(sv_data1[i])\n",
    "    sv_point.append(sv_point1[i])\n",
    "\n",
    "sv_data_array = np.append(sv_data_array,sv_data)\n",
    "sv_data_array = sv_data_array.reshape(200,1)\n",
    "\n",
    "sv_point_array = np.append(sv_point_array,sv_point)\n",
    "sv_point_array = sv_point_array.reshape(200,1)\n",
    "\n",
    "sv_t = np.ones((200,1))*0.1\n",
    "\n",
    "# sv_t\n",
    "print(sv_data_array)\n",
    "\n",
    "print(sv_point_array)\n",
    "# sv_data"
   ]
  },
  {
   "cell_type": "markdown",
   "metadata": {
    "id": "fWI8efG9EeAr"
   },
   "source": [
    "#Build Network"
   ]
  },
  {
   "cell_type": "code",
   "execution_count": null,
   "metadata": {
    "id": "eiGaIYgobOMH"
   },
   "outputs": [],
   "source": [
    "class Net_AC(nn.Module):\n",
    "    def __init__(self):\n",
    "        super(Net_AC, self).__init__()\n",
    "        torch.manual_seed(1234) # Fix Initial_Parameter\n",
    "        self.hidden_layer1 = nn.Linear(2,64)\n",
    "        torch.manual_seed(1234)\n",
    "        self.hidden_layer2 = nn.Linear(64,64)\n",
    "        torch.manual_seed(1234)\n",
    "        self.hidden_layer3 = nn.Linear(64,64)\n",
    "        torch.manual_seed(1234)\n",
    "        self.hidden_layer4 = nn.Linear(64,64)\n",
    "        torch.manual_seed(1234)\n",
    "        self.output_layer = nn.Linear(64,1)\n",
    "\n",
    "    def forward(self, x,t):\n",
    "        inputs = torch.cat([x,t],axis=1)\n",
    "        layer1_out = torch.tanh(self.hidden_layer1(inputs))\n",
    "        layer2_out = torch.tanh(self.hidden_layer2(layer1_out))\n",
    "        layer3_out = torch.tanh(self.hidden_layer3(layer2_out))\n",
    "        layer4_out = torch.tanh(self.hidden_layer4(layer3_out))\n",
    "        output = self.output_layer(layer4_out)\n",
    "\n",
    "        return output"
   ]
  },
  {
   "cell_type": "markdown",
   "metadata": {
    "id": "pZ0VS6TZE3XU"
   },
   "source": [
    "#Set Scaled_residual (x only)"
   ]
  },
  {
   "cell_type": "code",
   "execution_count": null,
   "metadata": {
    "id": "lIXX_TorfYRA"
   },
   "outputs": [],
   "source": [
    "N=100"
   ]
  },
  {
   "cell_type": "code",
   "execution_count": null,
   "metadata": {
    "id": "QpJcwaAuE3I7"
   },
   "outputs": [],
   "source": [
    "def f(x, t, net):\n",
    "    u = net(x,t)\n",
    "\n",
    "    u_x = torch.autograd.grad(u.sum(), x, create_graph=True)[0]\n",
    "    u_xx = torch.autograd.grad(u_x.sum(), x, create_graph=True)[0]\n",
    "\n",
    "    u_t = torch.autograd.grad(u.sum(), t, create_graph=True)[0]\n",
    "    # u_tt = torch.autograd.grad(u_t.sum(), t, create_graph=True)[0]\n",
    "\n",
    "    pde = 1*u_t - N*N*0.0001*u_xx + 5*u**3 - 5*u\n",
    "\n",
    "    return pde"
   ]
  },
  {
   "cell_type": "markdown",
   "metadata": {
    "id": "YVWhIrz26624"
   },
   "source": [
    "#Define Additional Partial Derivative"
   ]
  },
  {
   "cell_type": "code",
   "execution_count": null,
   "metadata": {
    "id": "gORBjbtIgc3f"
   },
   "outputs": [],
   "source": [
    "def dt(x,t, net):\n",
    "    u = net(x,t)\n",
    "\n",
    "    u_t = torch.autograd.grad(u.sum(), t, create_graph=True)[0]\n",
    "\n",
    "    return u_t\n",
    "\n",
    "def dx(x,t, net):\n",
    "    u = net(x,t)\n",
    "\n",
    "    u_x = torch.autograd.grad(u.sum(), x, create_graph=True)[0]\n",
    "\n",
    "    return u_x"
   ]
  },
  {
   "cell_type": "markdown",
   "metadata": {
    "id": "uXXaESkLEwdo"
   },
   "source": [
    "#loss,optimizer"
   ]
  },
  {
   "cell_type": "code",
   "execution_count": null,
   "metadata": {
    "id": "jC1k0mR_EzgM"
   },
   "outputs": [],
   "source": [
    "### (2) Model\n",
    "mse_cost_function = torch.nn.MSELoss() #MSE Function can be shared\n",
    "\n",
    "net_AC = Net_AC()\n",
    "net_AC = net_AC.to(device)\n",
    "optimizer = torch.optim.Adam(net_AC.parameters())"
   ]
  },
  {
   "cell_type": "markdown",
   "metadata": {
    "id": "oIde0S5M8j28"
   },
   "source": [
    "#Set train data set"
   ]
  },
  {
   "cell_type": "code",
   "execution_count": null,
   "metadata": {
    "id": "bZoWNqmyUOhk"
   },
   "outputs": [],
   "source": [
    "super_x = Variable(torch.from_numpy(sv_point_array).float(), requires_grad=True).to(device)\n",
    "super_t = Variable(torch.from_numpy(sv_t).float(), requires_grad=True).to(device)\n",
    "super_u = Variable(torch.from_numpy(sv_data_array).float(), requires_grad=False).to(device)\n",
    "\n",
    "x_D = np.random.uniform(low = -N , high = N , size=(100,1))\n",
    "t_D = np.random.uniform(low = 0 , high = 1 , size=(50,1))\n",
    "\n",
    "x_S = np.ones((50,1))*(-N)\n",
    "x_E = np.ones((50,1))*N\n",
    "\n",
    "t_0 = np.zeros((100,1))\n",
    "\n",
    "##---------------------------------Condition Label--------------------------------##\n",
    "u_t0 = ((x_D/N)**2)*np.cos(np.pi*x_D/N)\n",
    "\n",
    "##------------------------------------Condition Domain---------------------------------------##\n",
    "C_x_D = Variable(torch.from_numpy(x_D).float(), requires_grad=True).to(device)\n",
    "C_t_D = Variable(torch.from_numpy(t_D).float(), requires_grad=True).to(device)\n",
    "C_x_S = Variable(torch.from_numpy(x_S).float(), requires_grad=True).to(device)\n",
    "C_t_0 = Variable(torch.from_numpy(t_0).float(), requires_grad=True).to(device)\n",
    "C_x_E = Variable(torch.from_numpy(x_E).float(), requires_grad=True).to(device)\n",
    "\n",
    "##------------------------------------Condition Label---------------------------------------##\n",
    "pt_u_t0 = Variable(torch.from_numpy(u_t0).float(), requires_grad=False).to(device)"
   ]
  },
  {
   "cell_type": "markdown",
   "metadata": {
    "id": "TPlVUbs8kGIp"
   },
   "source": [
    "#Train"
   ]
  },
  {
   "cell_type": "code",
   "execution_count": null,
   "metadata": {
    "colab": {
     "base_uri": "https://localhost:8080/",
     "height": 1000
    },
    "id": "Td1Qkugx8fds",
    "outputId": "f2ae99ed-c8db-4c72-c691-f553d9209261"
   },
   "outputs": [
    {
     "name": "stdout",
     "output_type": "stream",
     "text": [
      "-----------------------------------------------------------------------------\n",
      "Epoch: 0\n",
      "tensor(0.4086, device='cuda:0', grad_fn=<AddBackward0>)\n",
      "tensor(0.9814, device='cuda:0', grad_fn=<SqrtBackward0>)\n",
      "-----------------------------------------------------------------------------\n",
      "Epoch: 100\n",
      "tensor(0.3079, device='cuda:0', grad_fn=<AddBackward0>)\n",
      "tensor(0.9092, device='cuda:0', grad_fn=<SqrtBackward0>)\n",
      "-----------------------------------------------------------------------------\n",
      "Epoch: 200\n",
      "tensor(0.2952, device='cuda:0', grad_fn=<AddBackward0>)\n",
      "tensor(0.9235, device='cuda:0', grad_fn=<SqrtBackward0>)\n",
      "-----------------------------------------------------------------------------\n",
      "Epoch: 300\n",
      "tensor(0.2902, device='cuda:0', grad_fn=<AddBackward0>)\n",
      "tensor(0.9347, device='cuda:0', grad_fn=<SqrtBackward0>)\n",
      "-----------------------------------------------------------------------------\n",
      "Epoch: 400\n",
      "tensor(0.2864, device='cuda:0', grad_fn=<AddBackward0>)\n",
      "tensor(0.9373, device='cuda:0', grad_fn=<SqrtBackward0>)\n",
      "-----------------------------------------------------------------------------\n",
      "Epoch: 500\n",
      "tensor(0.2894, device='cuda:0', grad_fn=<AddBackward0>)\n",
      "tensor(0.9481, device='cuda:0', grad_fn=<SqrtBackward0>)\n",
      "-----------------------------------------------------------------------------\n",
      "Epoch: 600\n",
      "tensor(0.2864, device='cuda:0', grad_fn=<AddBackward0>)\n",
      "tensor(0.9483, device='cuda:0', grad_fn=<SqrtBackward0>)\n",
      "-----------------------------------------------------------------------------\n",
      "Epoch: 700\n",
      "tensor(0.2875, device='cuda:0', grad_fn=<AddBackward0>)\n",
      "tensor(0.9355, device='cuda:0', grad_fn=<SqrtBackward0>)\n",
      "-----------------------------------------------------------------------------\n",
      "Epoch: 800\n",
      "tensor(0.2809, device='cuda:0', grad_fn=<AddBackward0>)\n",
      "tensor(0.9518, device='cuda:0', grad_fn=<SqrtBackward0>)\n",
      "-----------------------------------------------------------------------------\n",
      "Epoch: 900\n",
      "tensor(0.2844, device='cuda:0', grad_fn=<AddBackward0>)\n",
      "tensor(0.9475, device='cuda:0', grad_fn=<SqrtBackward0>)\n"
     ]
    },
    {
     "ename": "KeyboardInterrupt",
     "evalue": "",
     "output_type": "error",
     "traceback": [
      "\u001b[0;31m---------------------------------------------------------------------------\u001b[0m",
      "\u001b[0;31mKeyboardInterrupt\u001b[0m                         Traceback (most recent call last)",
      "\u001b[0;32m<ipython-input-16-2936506fd3f7>\u001b[0m in \u001b[0;36m<cell line: 4>\u001b[0;34m()\u001b[0m\n\u001b[1;32m     41\u001b[0m \u001b[0;31m##------------------------------------Optimize Loss-----------------------------------------##\u001b[0m\u001b[0;34m\u001b[0m\u001b[0;34m\u001b[0m\u001b[0m\n\u001b[1;32m     42\u001b[0m \u001b[0;34m\u001b[0m\u001b[0m\n\u001b[0;32m---> 43\u001b[0;31m     \u001b[0mloss\u001b[0m\u001b[0;34m.\u001b[0m\u001b[0mbackward\u001b[0m\u001b[0;34m(\u001b[0m\u001b[0;34m)\u001b[0m\u001b[0;34m\u001b[0m\u001b[0;34m\u001b[0m\u001b[0m\n\u001b[0m\u001b[1;32m     44\u001b[0m     \u001b[0moptimizer\u001b[0m\u001b[0;34m.\u001b[0m\u001b[0mstep\u001b[0m\u001b[0;34m(\u001b[0m\u001b[0;34m)\u001b[0m\u001b[0;34m\u001b[0m\u001b[0;34m\u001b[0m\u001b[0m\n\u001b[1;32m     45\u001b[0m \u001b[0;34m\u001b[0m\u001b[0m\n",
      "\u001b[0;32m/usr/local/lib/python3.10/dist-packages/torch/_tensor.py\u001b[0m in \u001b[0;36mbackward\u001b[0;34m(self, gradient, retain_graph, create_graph, inputs)\u001b[0m\n\u001b[1;32m    523\u001b[0m                 \u001b[0minputs\u001b[0m\u001b[0;34m=\u001b[0m\u001b[0minputs\u001b[0m\u001b[0;34m,\u001b[0m\u001b[0;34m\u001b[0m\u001b[0;34m\u001b[0m\u001b[0m\n\u001b[1;32m    524\u001b[0m             )\n\u001b[0;32m--> 525\u001b[0;31m         torch.autograd.backward(\n\u001b[0m\u001b[1;32m    526\u001b[0m             \u001b[0mself\u001b[0m\u001b[0;34m,\u001b[0m \u001b[0mgradient\u001b[0m\u001b[0;34m,\u001b[0m \u001b[0mretain_graph\u001b[0m\u001b[0;34m,\u001b[0m \u001b[0mcreate_graph\u001b[0m\u001b[0;34m,\u001b[0m \u001b[0minputs\u001b[0m\u001b[0;34m=\u001b[0m\u001b[0minputs\u001b[0m\u001b[0;34m\u001b[0m\u001b[0;34m\u001b[0m\u001b[0m\n\u001b[1;32m    527\u001b[0m         )\n",
      "\u001b[0;32m/usr/local/lib/python3.10/dist-packages/torch/autograd/__init__.py\u001b[0m in \u001b[0;36mbackward\u001b[0;34m(tensors, grad_tensors, retain_graph, create_graph, grad_variables, inputs)\u001b[0m\n\u001b[1;32m    265\u001b[0m     \u001b[0;31m# some Python versions print out the first line of a multi-line function\u001b[0m\u001b[0;34m\u001b[0m\u001b[0;34m\u001b[0m\u001b[0m\n\u001b[1;32m    266\u001b[0m     \u001b[0;31m# calls in the traceback and some print out the last line\u001b[0m\u001b[0;34m\u001b[0m\u001b[0;34m\u001b[0m\u001b[0m\n\u001b[0;32m--> 267\u001b[0;31m     _engine_run_backward(\n\u001b[0m\u001b[1;32m    268\u001b[0m         \u001b[0mtensors\u001b[0m\u001b[0;34m,\u001b[0m\u001b[0;34m\u001b[0m\u001b[0;34m\u001b[0m\u001b[0m\n\u001b[1;32m    269\u001b[0m         \u001b[0mgrad_tensors_\u001b[0m\u001b[0;34m,\u001b[0m\u001b[0;34m\u001b[0m\u001b[0;34m\u001b[0m\u001b[0m\n",
      "\u001b[0;32m/usr/local/lib/python3.10/dist-packages/torch/autograd/graph.py\u001b[0m in \u001b[0;36m_engine_run_backward\u001b[0;34m(t_outputs, *args, **kwargs)\u001b[0m\n\u001b[1;32m    742\u001b[0m         \u001b[0munregister_hooks\u001b[0m \u001b[0;34m=\u001b[0m \u001b[0m_register_logging_hooks_on_whole_graph\u001b[0m\u001b[0;34m(\u001b[0m\u001b[0mt_outputs\u001b[0m\u001b[0;34m)\u001b[0m\u001b[0;34m\u001b[0m\u001b[0;34m\u001b[0m\u001b[0m\n\u001b[1;32m    743\u001b[0m     \u001b[0;32mtry\u001b[0m\u001b[0;34m:\u001b[0m\u001b[0;34m\u001b[0m\u001b[0;34m\u001b[0m\u001b[0m\n\u001b[0;32m--> 744\u001b[0;31m         return Variable._execution_engine.run_backward(  # Calls into the C++ engine to run the backward pass\n\u001b[0m\u001b[1;32m    745\u001b[0m             \u001b[0mt_outputs\u001b[0m\u001b[0;34m,\u001b[0m \u001b[0;34m*\u001b[0m\u001b[0margs\u001b[0m\u001b[0;34m,\u001b[0m \u001b[0;34m**\u001b[0m\u001b[0mkwargs\u001b[0m\u001b[0;34m\u001b[0m\u001b[0;34m\u001b[0m\u001b[0m\n\u001b[1;32m    746\u001b[0m         )  # Calls into the C++ engine to run the backward pass\n",
      "\u001b[0;31mKeyboardInterrupt\u001b[0m: "
     ]
    }
   ],
   "source": [
    "iterations = 100000\n",
    "previous_validation_loss = 99999999.0\n",
    "\n",
    "for epoch in range(iterations):\n",
    "    optimizer.zero_grad()\n",
    "\n",
    "##-------------------------------Condition predict output------------------------------------##\n",
    "\n",
    "    net_xS_out = net_AC(C_x_S, C_t_D)\n",
    "    net_xE_out = net_AC(C_x_E, C_t_D)\n",
    "\n",
    "    net_super_u = net_AC(N*super_x, super_t)\n",
    "\n",
    "    net_DxE_out = dx(C_x_E, C_t_D, net_AC)\n",
    "    net_DxS_out = dx(C_x_S, C_t_D, net_AC)\n",
    "\n",
    "##------------------------------------Condition Loss-----------------------------------------##\n",
    "\n",
    "    mse_xSEt = mse_cost_function(net_xS_out, net_xE_out)\n",
    "    mse_DxSEt = mse_cost_function(net_DxS_out, net_DxE_out)\n",
    "\n",
    "    mse_super = mse_cost_function(net_super_u, super_u)\n",
    "\n",
    "##------------------------------------Set Interior Domain-----------------------------------------##\n",
    "\n",
    "    x_collocation = np.random.uniform(low= -N, high= N, size=(10000,1))\n",
    "    t_collocation = np.random.uniform(low= 0, high= 1, size=(10000,1))\n",
    "    all_zeros = np.zeros((10000,1))\n",
    "\n",
    "    pt_x_collocation = Variable(torch.from_numpy(x_collocation).float(), requires_grad=True).to(device)\n",
    "    pt_t_collocation = Variable(torch.from_numpy(t_collocation).float(), requires_grad=True).to(device)\n",
    "    pt_all_zeros = Variable(torch.from_numpy(all_zeros).float(), requires_grad=False).to(device)\n",
    "\n",
    "##------------------------------------Compute Loss-----------------------------------------##\n",
    "\n",
    "    f_out = f(pt_x_collocation, pt_t_collocation, net_AC)\n",
    "    mse_f = mse_cost_function(f_out, pt_all_zeros)\n",
    "\n",
    "    loss = mse_xSEt + mse_DxSEt + 0.3*mse_f + 2*mse_super\n",
    "\n",
    "##------------------------------------Optimize Loss-----------------------------------------##\n",
    "\n",
    "    loss.backward()\n",
    "    optimizer.step()\n",
    "\n",
    "##----------------------------Relative L2 Error-----------------------------##\n",
    "    if (epoch) % 100 == 0:\n",
    "        predict = torch.reshape(net_AC(N*label_x, label_t),(512,201))\n",
    "        gap = torch.sqrt((((Solution1 - predict)**2).mean())/((Solution1**2).mean()))\n",
    "        print(\"-----------------------------------------------------------------------------\")\n",
    "        print(\"Epoch:\",epoch)\n",
    "        print(loss.item())\n",
    "        print(gap.item())"
   ]
  },
  {
   "cell_type": "markdown",
   "metadata": {
    "id": "efSAjuApkkWo"
   },
   "source": [
    "# Plotting Result"
   ]
  },
  {
   "cell_type": "code",
   "execution_count": null,
   "metadata": {
    "colab": {
     "base_uri": "https://localhost:8080/",
     "height": 368
    },
    "id": "gcKhMla6DthS",
    "outputId": "5304f7ae-55e0-4c3a-dcb6-d1817388f444"
   },
   "outputs": [
    {
     "data": {
      "image/png": "[encoded data removed]",
      "text/plain": [
       "<Figure size 700x400 with 2 Axes>"
      ]
     },
     "metadata": {},
     "output_type": "display_data"
    }
   ],
   "source": [
    "from mpl_toolkits.mplot3d import Axes3D\n",
    "import matplotlib.pyplot as plt\n",
    "from matplotlib import cm\n",
    "from matplotlib.ticker import LinearLocator, FormatStrFormatter\n",
    "import numpy as np\n",
    "\n",
    "\n",
    "ob_x=np.arange(-1,1,0.01)\n",
    "ob_t=np.arange(0,1,0.01)\n",
    "ms_x, ms_t= np.meshgrid(ob_x,ob_t)\n",
    "\n",
    "ob_x = np.ravel(ms_x).reshape(-1,1)\n",
    "ob_t = np.ravel(ms_t).reshape(-1,1)\n",
    "\n",
    "pt_x = Variable(torch.from_numpy(ob_x).float(), requires_grad=False).to(device)\n",
    "pt_t = Variable(torch.from_numpy(ob_t).float(), requires_grad=False).to(device)\n",
    "\n",
    "fig = plt.figure(figsize=(7,4))\n",
    "\n",
    "pt_u3 = net_AC(N*pt_x,1*pt_t)\n",
    "\n",
    "u3 = pt_u3.data.cpu().numpy()\n",
    "ms_u3 = u3.reshape(ms_x.shape)\n",
    "\n",
    "u3 = pt_u3.data.cpu().numpy()\n",
    "\n",
    "\n",
    "plt.contourf(ms_t, ms_x , ms_u3, levels=20)\n",
    "\n",
    "plt.colorbar()\n",
    "\n",
    "plt.show()"
   ]
  }
 ],
 "metadata": {
  "accelerator": "GPU",
  "colab": {
   "gpuType": "T4",
   "provenance": []
  },
  "kernelspec": {
   "display_name": "Python 3",
   "name": "python3"
  },
  "language_info": {
   "name": "python"
  }
 },
 "nbformat": 4,
 "nbformat_minor": 0
}
