{
 "cells": [
  {
   "cell_type": "markdown",
   "metadata": {
    "id": "giKCttwtEa4M"
   },
   "source": [
    "#Import"
   ]
  },
  {
   "cell_type": "code",
   "execution_count": null,
   "metadata": {
    "id": "sLi8d_ndEVmG"
   },
   "outputs": [],
   "source": [
    "import numpy as np\n",
    "\n",
    "import torch\n",
    "import torch.nn as nn\n",
    "from torch.autograd import Variable\n",
    "from torch.func import functional_call, vmap, vjp, jvp, jacrev\n",
    "from functorch import make_functional\n",
    "# import random\n",
    "\n",
    "device = torch.device(\"cuda:0\" if torch.cuda.is_available() else \"cpu\")"
   ]
  },
  {
   "cell_type": "code",
   "execution_count": null,
   "metadata": {
    "colab": {
     "base_uri": "https://localhost:8080/"
    },
    "id": "bOcv2aFAEc8L",
    "outputId": "f49b6955-d57f-4671-c1f4-4669135ac2ca"
   },
   "outputs": [
    {
     "name": "stdout",
     "output_type": "stream",
     "text": [
      "cuda:0\n"
     ]
    }
   ],
   "source": [
    "print(device)"
   ]
  },
  {
   "cell_type": "code",
   "execution_count": null,
   "metadata": {
    "colab": {
     "base_uri": "https://localhost:8080/"
    },
    "id": "cjLzLkJlSTCk",
    "outputId": "2e575c80-d930-4cdd-fb3f-a74809eb7098"
   },
   "outputs": [
    {
     "name": "stdout",
     "output_type": "stream",
     "text": [
      "Collecting spicy\n",
      "  Downloading spicy-0.16.0-py2.py3-none-any.whl (1.7 kB)\n",
      "Requirement already satisfied: scipy in /usr/local/lib/python3.10/dist-packages (from spicy) (1.11.4)\n",
      "Requirement already satisfied: numpy<1.28.0,>=1.21.6 in /usr/local/lib/python3.10/dist-packages (from scipy->spicy) (1.25.2)\n",
      "Installing collected packages: spicy\n",
      "Successfully installed spicy-0.16.0\n"
     ]
    }
   ],
   "source": [
    "!pip install spicy"
   ]
  },
  {
   "cell_type": "markdown",
   "metadata": {
    "id": "W70ojZke_Bcx"
   },
   "source": [
    "#Set test data"
   ]
  },
  {
   "cell_type": "code",
   "execution_count": null,
   "metadata": {
    "id": "2kIsajfJSat5"
   },
   "outputs": [],
   "source": [
    "from spicy import io\n",
    "\n",
    "mat_file = io.loadmat('/content/FluentSol.mat')"
   ]
  },
  {
   "cell_type": "code",
   "execution_count": null,
   "metadata": {
    "id": "nPJCyonqzteT"
   },
   "outputs": [],
   "source": [
    "test_x = mat_file['x'][0].reshape(-1,1)\n",
    "test_y = mat_file['y'][0].reshape(-1,1)\n",
    "test_p = mat_file['p'][0].reshape(-1,1)\n",
    "test_vx = mat_file['vx'][0].reshape(-1,1)\n",
    "test_vy = mat_file['vy'][0].reshape(-1,1)\n",
    "\n",
    "test_x_ = Variable(torch.from_numpy(test_x).float(), requires_grad=False).to(device)\n",
    "test_y_ = Variable(torch.from_numpy(test_y).float(), requires_grad=False).to(device)\n",
    "test_p_ = Variable(torch.from_numpy(test_p).float(), requires_grad=False).to(device)\n",
    "test_vx_ = Variable(torch.from_numpy(test_vx).float(), requires_grad=False).to(device)\n",
    "test_vy_ = Variable(torch.from_numpy(test_vy).float(), requires_grad=False).to(device)"
   ]
  },
  {
   "cell_type": "markdown",
   "metadata": {
    "id": "fWI8efG9EeAr"
   },
   "source": [
    "#Build Network"
   ]
  },
  {
   "cell_type": "code",
   "execution_count": null,
   "metadata": {
    "id": "eiGaIYgobOMH"
   },
   "outputs": [],
   "source": [
    "M = 40\n",
    "\n",
    "class Net_NS(nn.Module):\n",
    "    def __init__(self):\n",
    "        super(Net_NS, self).__init__()\n",
    "        torch.manual_seed(333)\n",
    "        self.hidden_layer1 = nn.Linear(2,M)\n",
    "        torch.manual_seed(333)\n",
    "        self.hidden_layer2 = nn.Linear(M,M)\n",
    "        torch.manual_seed(333)\n",
    "        self.hidden_layer3 = nn.Linear(M,M)\n",
    "        torch.manual_seed(333)\n",
    "        self.hidden_layer4 = nn.Linear(M,M)\n",
    "        torch.manual_seed(333)\n",
    "        self.hidden_layer5 = nn.Linear(M,M)\n",
    "        torch.manual_seed(333)\n",
    "        self.output_layer = nn.Linear(M,3)\n",
    "\n",
    "    def forward(self, x,y):\n",
    "        inputs = torch.cat([x,y],axis=1)\n",
    "        layer1_out = torch.tanh(self.hidden_layer1(inputs))\n",
    "        layer2_out = torch.tanh(self.hidden_layer2(layer1_out))\n",
    "        layer3_out = torch.tanh(self.hidden_layer3(layer2_out))\n",
    "        layer4_out = torch.tanh(self.hidden_layer4(layer3_out))\n",
    "        layer5_out = torch.tanh(self.hidden_layer5(layer4_out))\n",
    "        out = self.output_layer(layer5_out)\n",
    "\n",
    "        u = out[:, 0:1]\n",
    "        v = out[:, 1:2]\n",
    "        p = out[:, 2:3]\n",
    "\n",
    "        return u , v , p"
   ]
  },
  {
   "cell_type": "markdown",
   "metadata": {
    "id": "pZ0VS6TZE3XU"
   },
   "source": [
    "#set PDE,residual"
   ]
  },
  {
   "cell_type": "code",
   "execution_count": null,
   "metadata": {
    "id": "W9Y3jypbEmbx"
   },
   "outputs": [],
   "source": [
    "N = 10"
   ]
  },
  {
   "cell_type": "code",
   "execution_count": null,
   "metadata": {
    "id": "QpJcwaAuE3I7"
   },
   "outputs": [],
   "source": [
    "rho = 1.00\n",
    "mu = 0.02\n",
    "\n",
    "def ns(xy, net):\n",
    "    x=xy[:, 0:1]\n",
    "    y=xy[:, 1:2]\n",
    "\n",
    "    u, v, p = net(x,y)\n",
    "\n",
    "    u_x = torch.autograd.grad(u.sum(), x, create_graph=True)[0]\n",
    "    u_y = torch.autograd.grad(u.sum(), y, create_graph=True)[0]\n",
    "    v_x = torch.autograd.grad(v.sum(), x, create_graph=True)[0]\n",
    "    v_y = torch.autograd.grad(v.sum(), y, create_graph=True)[0]\n",
    "    u_xx = torch.autograd.grad(u_x.sum(), x, create_graph=True)[0]\n",
    "    u_yy = torch.autograd.grad(u_y.sum(), y, create_graph=True)[0]\n",
    "    v_xx = torch.autograd.grad(v_x.sum(), x, create_graph=True)[0]\n",
    "    v_yy = torch.autograd.grad(v_y.sum(), y, create_graph=True)[0]\n",
    "    p_x = torch.autograd.grad(p.sum(), x, create_graph=True)[0]\n",
    "    p_y = torch.autograd.grad(p.sum(), y, create_graph=True)[0]\n",
    "\n",
    "    r_1 = (rho * (u*N*u_x+v*N*u_y) + N*p_x - mu*(N*N*u_xx + N*N*u_yy))/N\n",
    "    r_2 = (rho * (u*N*v_x+v*N*v_y) + N*p_y - mu*(N*N*v_xx + N*N*v_yy))/N\n",
    "    r_3 = (N*u_x+N*v_y)/N\n",
    "\n",
    "    return r_1, r_2, r_3\n"
   ]
  },
  {
   "cell_type": "markdown",
   "metadata": {
    "id": "uXXaESkLEwdo"
   },
   "source": [
    "#loss,optimizer"
   ]
  },
  {
   "cell_type": "code",
   "execution_count": null,
   "metadata": {
    "id": "jC1k0mR_EzgM"
   },
   "outputs": [],
   "source": [
    "import torch\n",
    "import torch.nn.init as init\n",
    "\n",
    "mse_cost_function = torch.nn.MSELoss() \n",
    "\n",
    "net_NS = Net_NS()\n",
    "net_NS = net_NS.to(device)\n",
    "\n",
    "\n",
    "for layer in net_NS.children():\n",
    "    if isinstance(layer, torch.nn.Linear):\n",
    "        init.xavier_uniform_(layer.weight) \n",
    "\n",
    "optimizer = torch.optim.Adam(net_NS.parameters(),lr=0.001)\n",
    "optimizer_LBFGS = torch.optim.LBFGS(net_NS.parameters(),max_iter=10000, max_eval=None, tolerance_grad=1e-222, tolerance_change=1e-222, history_size=100)"
   ]
  },
  {
   "cell_type": "markdown",
   "metadata": {
    "id": "oIde0S5M8j28"
   },
   "source": [
    "#Set data set"
   ]
  },
  {
   "cell_type": "code",
   "execution_count": null,
   "metadata": {
    "id": "Z2O9XauXCKH7"
   },
   "outputs": [],
   "source": [
    "def remove_pt_inside_cyl(xy_col, xc, yc, r):\n",
    "    dst = np.array([((xy[0] - xc) ** 2 + (xy[1] - yc) ** 2) ** 0.5 for xy in xy_col])\n",
    "    return xy_col[dst > r, :]\n",
    "\n",
    "# define boundary condition\n",
    "def func_u0(y):\n",
    "    return 4 * y/N * (0.41 - y/N) / ((0.41) ** 2)\n",
    "\n",
    "\n",
    "# set number of data points\n",
    "N_b = 200    # inlet and outlet boundary\n",
    "N_w = 400    # wall boundary\n",
    "N_s = 200    # surface boundary\n",
    "N_c = 6000  # collocation points\n",
    "N_r = 600  # additional refining points\n",
    "\n",
    "    # set boundary\n",
    "xmin = 0.0\n",
    "xmax = 1.1*N\n",
    "ymin = 0.0\n",
    "ymax = 0.41*N\n",
    "r = 0.05*N\n",
    "xc = 0.2*N\n",
    "yc = 0.2*N\n",
    "\n",
    "    # inlet boundary data, v=0\n",
    "inlet_xy = np.linspace([xmin, ymin], [xmin, ymax], N_b)\n",
    "# print(inlet_xy[:,1])\n",
    "inlet_u = func_u0(inlet_xy[:, 1]).reshape(-1,1)\n",
    "inlet_v = np.zeros((N_b,1))\n",
    "inlet_uv = np.concatenate([inlet_u, inlet_v], axis=1)\n",
    "\n",
    "    # outlet boundary condition, p=0\n",
    "outlet_xy = np.linspace([xmax, ymin], [xmax, ymax], N_b)\n",
    "outlet_p = np.zeros((N_b, 1))\n",
    "\n",
    "    # wall boundary condition, u=v=0\n",
    "wallup_xy = np.linspace([xmin, ymax], [xmax, ymax], N_w)\n",
    "walldn_xy = np.linspace([xmin, ymin], [xmax, ymin], N_w)\n",
    "wallup_uv = np.zeros((N_w, 2))\n",
    "walldn_uv = np.zeros((N_w, 2))\n",
    "\n",
    "    # cylinder surface, u=v=0\n",
    "theta = np.linspace(0.0, 2 * np.pi, N_s)\n",
    "cyld_x = (r * np.cos(theta) + xc).reshape(-1, 1)\n",
    "cyld_y = (r * np.sin(theta) + yc).reshape(-1, 1)\n",
    "cyld_xy = np.concatenate([cyld_x, cyld_y], axis=1)\n",
    "cyld_uv = np.zeros((N_s, 2))\n",
    "\n",
    "    # all boundary conditions except outlet\n",
    "xy_bnd = np.concatenate([inlet_xy, wallup_xy, walldn_xy, cyld_xy], axis=0)\n",
    "uv_bnd_sol = np.concatenate([inlet_uv, wallup_uv, walldn_uv, cyld_uv], axis=0)\n",
    "\n",
    "    # refine points around cylider\n",
    "x_col_refine = np.random.uniform(xc-2*r, xc+2*r, [N_r, 1])\n",
    "y_col_refine = np.random.uniform(yc-2*r, yc+2*r, [N_r, 1])\n",
    "xy_col_refine = np.concatenate([x_col_refine, y_col_refine], axis=1)\n",
    "\n",
    "    # convert all to tensors\n",
    "xy_bnd_ = Variable(torch.from_numpy(xy_bnd).float(), requires_grad=True).to(device)\n",
    "\n",
    "uv_bnd_sol = Variable(torch.from_numpy(uv_bnd_sol).float(), requires_grad=False).to(device)\n",
    "u_sol = uv_bnd_sol[:, 0:1]\n",
    "v_sol = uv_bnd_sol[:, 1:2]\n",
    "\n",
    "outlet_xy_ = Variable(torch.from_numpy(outlet_xy).float(), requires_grad=True).to(device)\n",
    "outlet_p = Variable(torch.from_numpy(outlet_p).float(), requires_grad=False).to(device)\n",
    "\n",
    "\n",
    "#______________________________LBFGS______________________________#\n",
    "\n",
    "LBFGS_x_col_refine = np.random.uniform(xc-2*r, xc+2*r, [1000, 1])\n",
    "LBFGS_y_col_refine = np.random.uniform(yc-2*r, yc+2*r, [1000, 1])\n",
    "LBFGS_xy_col_refine = np.concatenate([LBFGS_x_col_refine, LBFGS_y_col_refine], axis=1)\n",
    "\n",
    "LBFGS_x_col = np.random.uniform(xmin, xmax, [8000, 1])\n",
    "LBFGS_y_col = np.random.uniform(ymin, ymax, [8000, 1])\n",
    "LBFGS_xy_col = np.concatenate([LBFGS_x_col, LBFGS_y_col], axis=1)\n",
    "\n",
    "LBFGS_xy_col = np.concatenate([LBFGS_xy_col, LBFGS_xy_col_refine], axis=0)\n",
    "\n",
    " # remove collocation points inside the cylinder\n",
    "LBFGS_xy_col = remove_pt_inside_cyl(LBFGS_xy_col, xc=xc, yc=yc, r=r)\n",
    "\n",
    "    # concatenation of all boundary and collocation points\n",
    "LBFGS_xy_col = np.concatenate([LBFGS_xy_col, xy_bnd, outlet_xy], axis=0)\n",
    "\n",
    "    # convert all to tensors\n",
    "    # xy_col = tf.convert_to_tensor(xy_col, dtype=tf.float32)\n",
    "LBFGS_xy_col = Variable(torch.from_numpy(LBFGS_xy_col).float(), requires_grad=True).to(device)\n",
    "\n",
    "LBFGS_all_zeros = np.zeros((len(LBFGS_xy_col),1))\n",
    "LBFGS_pt_all_zeros = Variable(torch.from_numpy(LBFGS_all_zeros).float(), requires_grad=False).to(device)"
   ]
  },
  {
   "cell_type": "code",
   "execution_count": null,
   "metadata": {
    "id": "WnYN8UH6IJ-P"
   },
   "outputs": [],
   "source": [
    "def closure():\n",
    "    optimizer_LBFGS.zero_grad()\n",
    "\n",
    "    r_1, r_2, r_3 = ns(LBFGS_xy_col,net_NS)\n",
    "    u_hat, v_hat, _ = net_NS(xy_bnd_[:, 0:1],xy_bnd_[:, 1:2])\n",
    "    _, _, p_hat = net_NS(outlet_xy_[:, 0:1],outlet_xy_[:, 1:2])\n",
    "\n",
    "    mse_r1 = mse_cost_function(r_1,LBFGS_pt_all_zeros)\n",
    "    mse_r2 = mse_cost_function(r_2,LBFGS_pt_all_zeros)\n",
    "    mse_r3 = mse_cost_function(r_3,LBFGS_pt_all_zeros)\n",
    "\n",
    "    mse_bnd_u = mse_cost_function(u_hat,u_sol)\n",
    "    mse_bnd_v = mse_cost_function(v_hat,v_sol)\n",
    "\n",
    "    mse_outlet = mse_cost_function(p_hat,outlet_p)\n",
    "\n",
    "    loss = (1)*(mse_r1 + mse_r2 + mse_r3) + 2*(mse_bnd_u + mse_bnd_v) + 2*mse_outlet\n",
    "\n",
    "    loss.backward()\n",
    "\n",
    "    return loss"
   ]
  },
  {
   "cell_type": "markdown",
   "metadata": {
    "id": "bQ30YUNPHuK4"
   },
   "source": [
    "#Train (Adam & L-bfgs)"
   ]
  },
  {
   "cell_type": "code",
   "execution_count": null,
   "metadata": {
    "colab": {
     "base_uri": "https://localhost:8080/",
     "height": 1000
    },
    "id": "Td1Qkugx8fds",
    "outputId": "f1f23b65-2a25-4b8f-fbc2-8c240d6bb745"
   },
   "outputs": [
    {
     "name": "stdout",
     "output_type": "stream",
     "text": [
      "-----------------------------------------------------------------------------\n",
      "Epoch: 1\n",
      "tensor(0.7929, device='cuda:0', grad_fn=<DivBackward0>)\n",
      "tensor(1.3860, device='cuda:0', grad_fn=<DivBackward0>)\n",
      "tensor(1.6262, device='cuda:0', grad_fn=<AddBackward0>)\n",
      "-----------------------------------------------------------------------------\n",
      "Epoch: 11\n",
      "tensor(0.9234, device='cuda:0', grad_fn=<DivBackward0>)\n",
      "tensor(0.8223, device='cuda:0', grad_fn=<DivBackward0>)\n",
      "tensor(0.2543, device='cuda:0', grad_fn=<AddBackward0>)\n",
      "-----------------------------------------------------------------------------\n",
      "Epoch: 21\n",
      "tensor(0.9251, device='cuda:0', grad_fn=<DivBackward0>)\n",
      "tensor(1.1990, device='cuda:0', grad_fn=<DivBackward0>)\n",
      "tensor(0.1798, device='cuda:0', grad_fn=<AddBackward0>)\n",
      "-----------------------------------------------------------------------------\n",
      "Epoch: 31\n",
      "tensor(0.9499, device='cuda:0', grad_fn=<DivBackward0>)\n",
      "tensor(0.8159, device='cuda:0', grad_fn=<DivBackward0>)\n",
      "tensor(0.1169, device='cuda:0', grad_fn=<AddBackward0>)\n",
      "-----------------------------------------------------------------------------\n",
      "Epoch: 41\n",
      "tensor(0.9561, device='cuda:0', grad_fn=<DivBackward0>)\n",
      "tensor(1.0558, device='cuda:0', grad_fn=<DivBackward0>)\n",
      "tensor(0.0823, device='cuda:0', grad_fn=<AddBackward0>)\n",
      "-----------------------------------------------------------------------------\n",
      "Epoch: 51\n",
      "tensor(0.9686, device='cuda:0', grad_fn=<DivBackward0>)\n",
      "tensor(0.9328, device='cuda:0', grad_fn=<DivBackward0>)\n",
      "tensor(0.0713, device='cuda:0', grad_fn=<AddBackward0>)\n",
      "-----------------------------------------------------------------------------\n",
      "Epoch: 61\n",
      "tensor(0.9720, device='cuda:0', grad_fn=<DivBackward0>)\n",
      "tensor(0.9658, device='cuda:0', grad_fn=<DivBackward0>)\n",
      "tensor(0.0666, device='cuda:0', grad_fn=<AddBackward0>)\n",
      "-----------------------------------------------------------------------------\n",
      "Epoch: 71\n",
      "tensor(0.9795, device='cuda:0', grad_fn=<DivBackward0>)\n",
      "tensor(0.9540, device='cuda:0', grad_fn=<DivBackward0>)\n",
      "tensor(0.0632, device='cuda:0', grad_fn=<AddBackward0>)\n",
      "-----------------------------------------------------------------------------\n",
      "Epoch: 81\n",
      "tensor(0.9822, device='cuda:0', grad_fn=<DivBackward0>)\n",
      "tensor(0.9548, device='cuda:0', grad_fn=<DivBackward0>)\n",
      "tensor(0.0597, device='cuda:0', grad_fn=<AddBackward0>)\n",
      "-----------------------------------------------------------------------------\n",
      "Epoch: 91\n",
      "tensor(0.9853, device='cuda:0', grad_fn=<DivBackward0>)\n",
      "tensor(0.9437, device='cuda:0', grad_fn=<DivBackward0>)\n",
      "tensor(0.0564, device='cuda:0', grad_fn=<AddBackward0>)\n",
      "-----------------------------------------------------------------------------\n",
      "Epoch: 101\n",
      "tensor(0.9873, device='cuda:0', grad_fn=<DivBackward0>)\n",
      "tensor(0.9479, device='cuda:0', grad_fn=<DivBackward0>)\n",
      "tensor(0.0534, device='cuda:0', grad_fn=<AddBackward0>)\n",
      "-----------------------------------------------------------------------------\n",
      "Epoch: 111\n",
      "tensor(0.9904, device='cuda:0', grad_fn=<DivBackward0>)\n",
      "tensor(0.9414, device='cuda:0', grad_fn=<DivBackward0>)\n",
      "tensor(0.0510, device='cuda:0', grad_fn=<AddBackward0>)\n",
      "-----------------------------------------------------------------------------\n",
      "Epoch: 121\n",
      "tensor(0.9910, device='cuda:0', grad_fn=<DivBackward0>)\n",
      "tensor(0.9429, device='cuda:0', grad_fn=<DivBackward0>)\n",
      "tensor(0.0477, device='cuda:0', grad_fn=<AddBackward0>)\n",
      "-----------------------------------------------------------------------------\n",
      "Epoch: 131\n",
      "tensor(0.9917, device='cuda:0', grad_fn=<DivBackward0>)\n",
      "tensor(0.9420, device='cuda:0', grad_fn=<DivBackward0>)\n",
      "tensor(0.0452, device='cuda:0', grad_fn=<AddBackward0>)\n",
      "-----------------------------------------------------------------------------\n",
      "Epoch: 141\n",
      "tensor(0.9917, device='cuda:0', grad_fn=<DivBackward0>)\n",
      "tensor(0.9420, device='cuda:0', grad_fn=<DivBackward0>)\n",
      "tensor(0.0431, device='cuda:0', grad_fn=<AddBackward0>)\n",
      "-----------------------------------------------------------------------------\n",
      "Epoch: 151\n",
      "tensor(0.9915, device='cuda:0', grad_fn=<DivBackward0>)\n",
      "tensor(0.9428, device='cuda:0', grad_fn=<DivBackward0>)\n",
      "tensor(0.0410, device='cuda:0', grad_fn=<AddBackward0>)\n",
      "-----------------------------------------------------------------------------\n",
      "Epoch: 161\n",
      "tensor(0.9914, device='cuda:0', grad_fn=<DivBackward0>)\n",
      "tensor(0.9443, device='cuda:0', grad_fn=<DivBackward0>)\n",
      "tensor(0.0388, device='cuda:0', grad_fn=<AddBackward0>)\n",
      "-----------------------------------------------------------------------------\n",
      "Epoch: 171\n",
      "tensor(0.9911, device='cuda:0', grad_fn=<DivBackward0>)\n",
      "tensor(0.9460, device='cuda:0', grad_fn=<DivBackward0>)\n",
      "tensor(0.0371, device='cuda:0', grad_fn=<AddBackward0>)\n",
      "-----------------------------------------------------------------------------\n",
      "Epoch: 181\n",
      "tensor(0.9910, device='cuda:0', grad_fn=<DivBackward0>)\n",
      "tensor(0.9476, device='cuda:0', grad_fn=<DivBackward0>)\n",
      "tensor(0.0366, device='cuda:0', grad_fn=<AddBackward0>)\n",
      "-----------------------------------------------------------------------------\n",
      "Epoch: 191\n",
      "tensor(0.9909, device='cuda:0', grad_fn=<DivBackward0>)\n",
      "tensor(0.9496, device='cuda:0', grad_fn=<DivBackward0>)\n",
      "tensor(0.0349, device='cuda:0', grad_fn=<AddBackward0>)\n"
     ]
    },
    {
     "ename": "KeyboardInterrupt",
     "evalue": "",
     "output_type": "error",
     "traceback": [
      "\u001b[0;31m---------------------------------------------------------------------------\u001b[0m",
      "\u001b[0;31mKeyboardInterrupt\u001b[0m                         Traceback (most recent call last)",
      "\u001b[0;32m<ipython-input-17-9b869919f74a>\u001b[0m in \u001b[0;36m<cell line: 5>\u001b[0;34m()\u001b[0m\n\u001b[1;32m     28\u001b[0m \u001b[0;31m##------------------------------------Compute Loss-----------------------------------------##\u001b[0m\u001b[0;34m\u001b[0m\u001b[0;34m\u001b[0m\u001b[0m\n\u001b[1;32m     29\u001b[0m \u001b[0;34m\u001b[0m\u001b[0m\n\u001b[0;32m---> 30\u001b[0;31m     \u001b[0mr_1\u001b[0m\u001b[0;34m,\u001b[0m \u001b[0mr_2\u001b[0m\u001b[0;34m,\u001b[0m \u001b[0mr_3\u001b[0m \u001b[0;34m=\u001b[0m \u001b[0mns\u001b[0m\u001b[0;34m(\u001b[0m\u001b[0mxy_col\u001b[0m\u001b[0;34m,\u001b[0m\u001b[0mnet_NS\u001b[0m\u001b[0;34m)\u001b[0m\u001b[0;34m\u001b[0m\u001b[0;34m\u001b[0m\u001b[0m\n\u001b[0m\u001b[1;32m     31\u001b[0m     \u001b[0mu_hat\u001b[0m\u001b[0;34m,\u001b[0m \u001b[0mv_hat\u001b[0m\u001b[0;34m,\u001b[0m \u001b[0m_\u001b[0m \u001b[0;34m=\u001b[0m \u001b[0mnet_NS\u001b[0m\u001b[0;34m(\u001b[0m\u001b[0mxy_bnd_\u001b[0m\u001b[0;34m[\u001b[0m\u001b[0;34m:\u001b[0m\u001b[0;34m,\u001b[0m \u001b[0;36m0\u001b[0m\u001b[0;34m:\u001b[0m\u001b[0;36m1\u001b[0m\u001b[0;34m]\u001b[0m\u001b[0;34m,\u001b[0m\u001b[0mxy_bnd_\u001b[0m\u001b[0;34m[\u001b[0m\u001b[0;34m:\u001b[0m\u001b[0;34m,\u001b[0m \u001b[0;36m1\u001b[0m\u001b[0;34m:\u001b[0m\u001b[0;36m2\u001b[0m\u001b[0;34m]\u001b[0m\u001b[0;34m)\u001b[0m\u001b[0;34m\u001b[0m\u001b[0;34m\u001b[0m\u001b[0m\n\u001b[1;32m     32\u001b[0m     \u001b[0m_\u001b[0m\u001b[0;34m,\u001b[0m \u001b[0m_\u001b[0m\u001b[0;34m,\u001b[0m \u001b[0mp_hat\u001b[0m \u001b[0;34m=\u001b[0m \u001b[0mnet_NS\u001b[0m\u001b[0;34m(\u001b[0m\u001b[0moutlet_xy_\u001b[0m\u001b[0;34m[\u001b[0m\u001b[0;34m:\u001b[0m\u001b[0;34m,\u001b[0m \u001b[0;36m0\u001b[0m\u001b[0;34m:\u001b[0m\u001b[0;36m1\u001b[0m\u001b[0;34m]\u001b[0m\u001b[0;34m,\u001b[0m\u001b[0moutlet_xy_\u001b[0m\u001b[0;34m[\u001b[0m\u001b[0;34m:\u001b[0m\u001b[0;34m,\u001b[0m \u001b[0;36m1\u001b[0m\u001b[0;34m:\u001b[0m\u001b[0;36m2\u001b[0m\u001b[0;34m]\u001b[0m\u001b[0;34m)\u001b[0m\u001b[0;34m\u001b[0m\u001b[0;34m\u001b[0m\u001b[0m\n",
      "\u001b[0;32m<ipython-input-13-e53958262335>\u001b[0m in \u001b[0;36mns\u001b[0;34m(xy, net)\u001b[0m\n\u001b[1;32m     12\u001b[0m     \u001b[0mv_x\u001b[0m \u001b[0;34m=\u001b[0m \u001b[0mtorch\u001b[0m\u001b[0;34m.\u001b[0m\u001b[0mautograd\u001b[0m\u001b[0;34m.\u001b[0m\u001b[0mgrad\u001b[0m\u001b[0;34m(\u001b[0m\u001b[0mv\u001b[0m\u001b[0;34m.\u001b[0m\u001b[0msum\u001b[0m\u001b[0;34m(\u001b[0m\u001b[0;34m)\u001b[0m\u001b[0;34m,\u001b[0m \u001b[0mx\u001b[0m\u001b[0;34m,\u001b[0m \u001b[0mcreate_graph\u001b[0m\u001b[0;34m=\u001b[0m\u001b[0;32mTrue\u001b[0m\u001b[0;34m)\u001b[0m\u001b[0;34m[\u001b[0m\u001b[0;36m0\u001b[0m\u001b[0;34m]\u001b[0m\u001b[0;34m\u001b[0m\u001b[0;34m\u001b[0m\u001b[0m\n\u001b[1;32m     13\u001b[0m     \u001b[0mv_y\u001b[0m \u001b[0;34m=\u001b[0m \u001b[0mtorch\u001b[0m\u001b[0;34m.\u001b[0m\u001b[0mautograd\u001b[0m\u001b[0;34m.\u001b[0m\u001b[0mgrad\u001b[0m\u001b[0;34m(\u001b[0m\u001b[0mv\u001b[0m\u001b[0;34m.\u001b[0m\u001b[0msum\u001b[0m\u001b[0;34m(\u001b[0m\u001b[0;34m)\u001b[0m\u001b[0;34m,\u001b[0m \u001b[0my\u001b[0m\u001b[0;34m,\u001b[0m \u001b[0mcreate_graph\u001b[0m\u001b[0;34m=\u001b[0m\u001b[0;32mTrue\u001b[0m\u001b[0;34m)\u001b[0m\u001b[0;34m[\u001b[0m\u001b[0;36m0\u001b[0m\u001b[0;34m]\u001b[0m\u001b[0;34m\u001b[0m\u001b[0;34m\u001b[0m\u001b[0m\n\u001b[0;32m---> 14\u001b[0;31m     \u001b[0mu_xx\u001b[0m \u001b[0;34m=\u001b[0m \u001b[0mtorch\u001b[0m\u001b[0;34m.\u001b[0m\u001b[0mautograd\u001b[0m\u001b[0;34m.\u001b[0m\u001b[0mgrad\u001b[0m\u001b[0;34m(\u001b[0m\u001b[0mu_x\u001b[0m\u001b[0;34m.\u001b[0m\u001b[0msum\u001b[0m\u001b[0;34m(\u001b[0m\u001b[0;34m)\u001b[0m\u001b[0;34m,\u001b[0m \u001b[0mx\u001b[0m\u001b[0;34m,\u001b[0m \u001b[0mcreate_graph\u001b[0m\u001b[0;34m=\u001b[0m\u001b[0;32mTrue\u001b[0m\u001b[0;34m)\u001b[0m\u001b[0;34m[\u001b[0m\u001b[0;36m0\u001b[0m\u001b[0;34m]\u001b[0m\u001b[0;34m\u001b[0m\u001b[0;34m\u001b[0m\u001b[0m\n\u001b[0m\u001b[1;32m     15\u001b[0m     \u001b[0mu_yy\u001b[0m \u001b[0;34m=\u001b[0m \u001b[0mtorch\u001b[0m\u001b[0;34m.\u001b[0m\u001b[0mautograd\u001b[0m\u001b[0;34m.\u001b[0m\u001b[0mgrad\u001b[0m\u001b[0;34m(\u001b[0m\u001b[0mu_y\u001b[0m\u001b[0;34m.\u001b[0m\u001b[0msum\u001b[0m\u001b[0;34m(\u001b[0m\u001b[0;34m)\u001b[0m\u001b[0;34m,\u001b[0m \u001b[0my\u001b[0m\u001b[0;34m,\u001b[0m \u001b[0mcreate_graph\u001b[0m\u001b[0;34m=\u001b[0m\u001b[0;32mTrue\u001b[0m\u001b[0;34m)\u001b[0m\u001b[0;34m[\u001b[0m\u001b[0;36m0\u001b[0m\u001b[0;34m]\u001b[0m\u001b[0;34m\u001b[0m\u001b[0;34m\u001b[0m\u001b[0m\n\u001b[1;32m     16\u001b[0m     \u001b[0mv_xx\u001b[0m \u001b[0;34m=\u001b[0m \u001b[0mtorch\u001b[0m\u001b[0;34m.\u001b[0m\u001b[0mautograd\u001b[0m\u001b[0;34m.\u001b[0m\u001b[0mgrad\u001b[0m\u001b[0;34m(\u001b[0m\u001b[0mv_x\u001b[0m\u001b[0;34m.\u001b[0m\u001b[0msum\u001b[0m\u001b[0;34m(\u001b[0m\u001b[0;34m)\u001b[0m\u001b[0;34m,\u001b[0m \u001b[0mx\u001b[0m\u001b[0;34m,\u001b[0m \u001b[0mcreate_graph\u001b[0m\u001b[0;34m=\u001b[0m\u001b[0;32mTrue\u001b[0m\u001b[0;34m)\u001b[0m\u001b[0;34m[\u001b[0m\u001b[0;36m0\u001b[0m\u001b[0;34m]\u001b[0m\u001b[0;34m\u001b[0m\u001b[0;34m\u001b[0m\u001b[0m\n",
      "\u001b[0;32m/usr/local/lib/python3.10/dist-packages/torch/autograd/__init__.py\u001b[0m in \u001b[0;36mgrad\u001b[0;34m(outputs, inputs, grad_outputs, retain_graph, create_graph, only_inputs, allow_unused, is_grads_batched, materialize_grads)\u001b[0m\n\u001b[1;32m    410\u001b[0m         )\n\u001b[1;32m    411\u001b[0m     \u001b[0;32melse\u001b[0m\u001b[0;34m:\u001b[0m\u001b[0;34m\u001b[0m\u001b[0;34m\u001b[0m\u001b[0m\n\u001b[0;32m--> 412\u001b[0;31m         result = _engine_run_backward(\n\u001b[0m\u001b[1;32m    413\u001b[0m             \u001b[0mt_outputs\u001b[0m\u001b[0;34m,\u001b[0m\u001b[0;34m\u001b[0m\u001b[0;34m\u001b[0m\u001b[0m\n\u001b[1;32m    414\u001b[0m             \u001b[0mgrad_outputs_\u001b[0m\u001b[0;34m,\u001b[0m\u001b[0;34m\u001b[0m\u001b[0;34m\u001b[0m\u001b[0m\n",
      "\u001b[0;32m/usr/local/lib/python3.10/dist-packages/torch/autograd/graph.py\u001b[0m in \u001b[0;36m_engine_run_backward\u001b[0;34m(t_outputs, *args, **kwargs)\u001b[0m\n\u001b[1;32m    742\u001b[0m         \u001b[0munregister_hooks\u001b[0m \u001b[0;34m=\u001b[0m \u001b[0m_register_logging_hooks_on_whole_graph\u001b[0m\u001b[0;34m(\u001b[0m\u001b[0mt_outputs\u001b[0m\u001b[0;34m)\u001b[0m\u001b[0;34m\u001b[0m\u001b[0;34m\u001b[0m\u001b[0m\n\u001b[1;32m    743\u001b[0m     \u001b[0;32mtry\u001b[0m\u001b[0;34m:\u001b[0m\u001b[0;34m\u001b[0m\u001b[0;34m\u001b[0m\u001b[0m\n\u001b[0;32m--> 744\u001b[0;31m         return Variable._execution_engine.run_backward(  # Calls into the C++ engine to run the backward pass\n\u001b[0m\u001b[1;32m    745\u001b[0m             \u001b[0mt_outputs\u001b[0m\u001b[0;34m,\u001b[0m \u001b[0;34m*\u001b[0m\u001b[0margs\u001b[0m\u001b[0;34m,\u001b[0m \u001b[0;34m**\u001b[0m\u001b[0mkwargs\u001b[0m\u001b[0;34m\u001b[0m\u001b[0;34m\u001b[0m\u001b[0m\n\u001b[1;32m    746\u001b[0m         )  # Calls into the C++ engine to run the backward pass\n",
      "\u001b[0;31mKeyboardInterrupt\u001b[0m: "
     ]
    }
   ],
   "source": [
    "iterations = 10000\n",
    "globals()[\"LBFGS_epoch\"] = 0\n",
    "previous_validation_loss = 99999999.0\n",
    "\n",
    "for epoch in range(iterations):\n",
    "    optimizer.zero_grad()\n",
    "\n",
    "##------------------------------------Set Interior Domain-----------------------------------------##\n",
    "\n",
    "    x_col = np.random.uniform(xmin, xmax, [N_c, 1])\n",
    "    y_col = np.random.uniform(ymin, ymax, [N_c, 1])\n",
    "    xy_col = np.concatenate([x_col, y_col], axis=1)\n",
    "\n",
    "    xy_col = np.concatenate([xy_col, xy_col_refine], axis=0)\n",
    "\n",
    "    # # remove collocation points inside the cylinder\n",
    "    xy_col = remove_pt_inside_cyl(xy_col, xc=xc, yc=yc, r=r)\n",
    "\n",
    "    # # concatenation of all boundary and collocation points\n",
    "    xy_col = np.concatenate([xy_col, xy_bnd, outlet_xy], axis=0)\n",
    "\n",
    "    # # convert all to tensors\n",
    "    xy_col = Variable(torch.from_numpy(xy_col).float(), requires_grad=True).to(device)\n",
    "\n",
    "    all_zeros = np.zeros((len(xy_col),1))\n",
    "    pt_all_zeros = Variable(torch.from_numpy(all_zeros).float(), requires_grad=False).to(device)\n",
    "\n",
    "##------------------------------------Compute Loss-----------------------------------------##\n",
    "\n",
    "    r_1, r_2, r_3 = ns(xy_col,net_NS)\n",
    "    u_hat, v_hat, _ = net_NS(xy_bnd_[:, 0:1],xy_bnd_[:, 1:2])\n",
    "    _, _, p_hat = net_NS(outlet_xy_[:, 0:1],outlet_xy_[:, 1:2])\n",
    "\n",
    "    mse_r1 = mse_cost_function(r_1,pt_all_zeros)\n",
    "    mse_r2 = mse_cost_function(r_2,pt_all_zeros)\n",
    "    mse_r3 = mse_cost_function(r_3,pt_all_zeros)\n",
    "\n",
    "    mse_bnd_u = mse_cost_function(u_hat,u_sol)\n",
    "    mse_bnd_v = mse_cost_function(v_hat,v_sol)\n",
    "\n",
    "    mse_outlet = mse_cost_function(p_hat,outlet_p)\n",
    "\n",
    "    loss = (1)*(mse_r1 + mse_r2 + mse_r3) + 2*(mse_bnd_u + mse_bnd_v) + 2*mse_outlet\n",
    "\n",
    "##------------------------------------Optimize Loss-----------------------------------------##\n",
    "\n",
    "    loss.backward()\n",
    "    optimizer.step()\n",
    "\n",
    "##----------------------------Result-----------------------------##\n",
    "    if (epoch) % 10 == 1:\n",
    "        tmp_u , tmp_v, tmp_p = net_NS(N*test_x_,N*test_y_)\n",
    "\n",
    "        error_p = torch.sqrt(((test_p_-tmp_p)**2).mean())/torch.sqrt((test_p_**2).mean())\n",
    "        error_velocity = torch.sqrt(((test_vy_-tmp_v)**2+(test_vx_-tmp_u)**2).mean())/torch.sqrt((test_vy_**2+test_vx_**2).mean())\n",
    "\n",
    "        print(\"-----------------------------------------------------------------------------\")\n",
    "        print(\"Epoch:\",epoch)\n",
    "\n",
    "        print(error_p)\n",
    "        print(error_velocity)\n",
    "        print(loss)\n",
    "\n",
    "##===========================================L-bfgs===================================================##\n",
    "\n",
    "print(\"=================== L B F G S =======================\")\n",
    "\n",
    "optimizer_LBFGS.step(closure)\n",
    "\n"
   ]
  },
  {
   "cell_type": "markdown",
   "metadata": {
    "id": "vWYCXeOZApwA"
   },
   "source": [
    "#Plotting Prediction"
   ]
  },
  {
   "cell_type": "code",
   "execution_count": null,
   "metadata": {
    "colab": {
     "base_uri": "https://localhost:8080/",
     "height": 386
    },
    "id": "yOMLierwwe1W",
    "outputId": "41a68b62-3a85-4cd8-ac16-b2afb28fe259"
   },
   "outputs": [
    {
     "data": {
      "text/plain": [
       "<Figure size 640x480 with 0 Axes>"
      ]
     },
     "metadata": {},
     "output_type": "display_data"
    },
    {
     "data": {
      "image/png": "[encoded data removed]",
      "text/plain": [
       "<Figure size 1300x400 with 2 Axes>"
      ]
     },
     "metadata": {},
     "output_type": "display_data"
    }
   ],
   "source": [
    "from mpl_toolkits.mplot3d import Axes3D\n",
    "import matplotlib.pyplot as plt\n",
    "from matplotlib import cm\n",
    "from matplotlib.ticker import LinearLocator, FormatStrFormatter\n",
    "import numpy as np\n",
    "\n",
    "fig = plt.figure()\n",
    "plt.figure(figsize=(13,4))\n",
    "\n",
    "x_ = np.arange(0,1.1,0.001)\n",
    "y_ = np.arange(0,0.41,0.001)\n",
    "\n",
    "ms_x_ , ms_y_= np.meshgrid(x_,y_)\n",
    "\n",
    "x_ = np.ravel(ms_x_).reshape(-1,1)\n",
    "y_ = np.ravel(ms_y_).reshape(-1,1)\n",
    "\n",
    "pt_x_ = Variable(torch.from_numpy(x_).float(), requires_grad=True).to(device)\n",
    "pt_y_ = Variable(torch.from_numpy(y_).float(), requires_grad=True).to(device)\n",
    "\n",
    "pt_u3 = net_NS(N*pt_x_,N*pt_y_)\n",
    "\n",
    "u3 = pt_u3[2].data.cpu().numpy()# 0:vx, 1:vy, and 2:p\n",
    "\n",
    "mask = ((x_-0.2)**2 + (y_-0.2)**2) < 0.0025  \n",
    "u3 = np.ma.masked_where(mask, u3)\n",
    "ms_u3 = u3.reshape(ms_x_.shape)\n",
    "\n",
    "plt.contourf(ms_x_ ,ms_y_, ms_u3, levels=100)\n",
    "plt.colorbar() \n",
    "\n",
    "plt.show()"
   ]
  }
 ],
 "metadata": {
  "accelerator": "GPU",
  "colab": {
   "gpuType": "T4",
   "provenance": []
  },
  "kernelspec": {
   "display_name": "Python 3",
   "name": "python3"
  },
  "language_info": {
   "name": "python"
  }
 },
 "nbformat": 4,
 "nbformat_minor": 0
}
