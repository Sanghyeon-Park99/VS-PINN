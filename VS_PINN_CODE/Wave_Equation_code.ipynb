{
 "cells": [
  {
   "cell_type": "markdown",
   "metadata": {
    "id": "giKCttwtEa4M"
   },
   "source": [
    "#Import"
   ]
  },
  {
   "cell_type": "code",
   "execution_count": 3,
   "metadata": {
    "id": "sLi8d_ndEVmG"
   },
   "outputs": [],
   "source": [
    "import numpy as np\n",
    "\n",
    "import torch\n",
    "import torch.nn as nn\n",
    "from torch.autograd import Variable\n",
    "\n",
    "device = torch.device(\"cuda:0\" if torch.cuda.is_available() else \"cpu\")"
   ]
  },
  {
   "cell_type": "markdown",
   "metadata": {
    "id": "fWI8efG9EeAr"
   },
   "source": [
    "#Build Network"
   ]
  },
  {
   "cell_type": "code",
   "execution_count": 4,
   "metadata": {
    "id": "eiGaIYgobOMH"
   },
   "outputs": [],
   "source": [
    "M = 128\n",
    "class Net_Wave(nn.Module):\n",
    "    def __init__(self):\n",
    "        super(Net_Wave, self).__init__()\n",
    "        torch.manual_seed(333)\n",
    "        self.hidden_layer1 = nn.Linear(2,M)\n",
    "        torch.manual_seed(333)\n",
    "        self.hidden_layer2 = nn.Linear(M,M)\n",
    "        torch.manual_seed(333)\n",
    "        self.hidden_layer3 = nn.Linear(M,M)\n",
    "        torch.manual_seed(333)\n",
    "        self.hidden_layer4 = nn.Linear(M,M)\n",
    "        torch.manual_seed(333)\n",
    "        self.output_layer = nn.Linear(M,1)\n",
    "\n",
    "    def forward(self, x,t):\n",
    "        inputs = torch.cat([x,t],axis=1)\n",
    "        layer1_out = torch.tanh(self.hidden_layer1(inputs))\n",
    "        layer2_out = torch.tanh(self.hidden_layer2(layer1_out))\n",
    "        layer3_out = torch.tanh(self.hidden_layer3(layer2_out))\n",
    "        layer4_out = torch.tanh(self.hidden_layer4(layer3_out))\n",
    "        output = self.output_layer(layer4_out)\n",
    "\n",
    "        return output"
   ]
  },
  {
   "cell_type": "markdown",
   "metadata": {
    "id": "pZ0VS6TZE3XU"
   },
   "source": [
    "#set PDE,residual"
   ]
  },
  {
   "cell_type": "code",
   "execution_count": 5,
   "metadata": {
    "id": "osZA7FK4dMha"
   },
   "outputs": [],
   "source": [
    "N=10"
   ]
  },
  {
   "cell_type": "code",
   "execution_count": 6,
   "metadata": {
    "id": "QpJcwaAuE3I7"
   },
   "outputs": [],
   "source": [
    "def f(x, t, net):\n",
    "    u = net(x,t)\n",
    "\n",
    "    u_x = torch.autograd.grad(u.sum(), x, create_graph=True)[0]\n",
    "    u_xx = torch.autograd.grad(u_x.sum(), x, create_graph=True)[0]\n",
    "\n",
    "    u_t = torch.autograd.grad(u.sum(), t, create_graph=True)[0]\n",
    "    u_tt = torch.autograd.grad(u_t.sum(), t, create_graph=True)[0]\n",
    "\n",
    "    pde = u_tt - u_xx\n",
    "\n",
    "    return pde"
   ]
  },
  {
   "cell_type": "markdown",
   "metadata": {
    "id": "YVWhIrz26624"
   },
   "source": [
    "#Define Additional Partial Derivative"
   ]
  },
  {
   "cell_type": "code",
   "execution_count": 7,
   "metadata": {
    "id": "gORBjbtIgc3f"
   },
   "outputs": [],
   "source": [
    "def dt(x,t, net):\n",
    "    u = net(x,t)\n",
    "\n",
    "    u_t = torch.autograd.grad(u.sum(), t, create_graph=True)[0]\n",
    "\n",
    "    return u_t\n",
    "\n",
    "def dx(x,t, net):\n",
    "    u = net(x,t)\n",
    "\n",
    "    u_x = torch.autograd.grad(u.sum(), x, create_graph=True)[0]\n",
    "\n",
    "    return u_x"
   ]
  },
  {
   "cell_type": "markdown",
   "metadata": {
    "id": "8_spWkLNUDZX"
   },
   "source": [
    "#Set Observer Point"
   ]
  },
  {
   "cell_type": "code",
   "execution_count": 8,
   "metadata": {
    "id": "_vabBqfbRJAS"
   },
   "outputs": [],
   "source": [
    "ob_x=np.arange(0,1,0.01)\n",
    "ob_t=np.arange(0,1,0.01)\n",
    "\n",
    "ms_x, ms_t= np.meshgrid(ob_x,ob_t)\n",
    "\n",
    "ob_x = np.ravel(ms_x).reshape(-1,1)\n",
    "ob_t = np.ravel(ms_t).reshape(-1,1)\n",
    "\n",
    "pt_x = Variable(torch.from_numpy(ob_x).float(), requires_grad=False).to(device)\n",
    "pt_t = Variable(torch.from_numpy(ob_t).float(), requires_grad=False).to(device)"
   ]
  },
  {
   "cell_type": "markdown",
   "metadata": {
    "id": "uXXaESkLEwdo"
   },
   "source": [
    "#loss,optimizer"
   ]
  },
  {
   "cell_type": "code",
   "execution_count": 9,
   "metadata": {
    "id": "jC1k0mR_EzgM"
   },
   "outputs": [],
   "source": [
    "mse_cost_function = torch.nn.MSELoss()\n",
    "\n",
    "net_wave = Net_Wave()\n",
    "net_wave = net_wave.to(device)\n",
    "optimizer = torch.optim.Adam(net_wave.parameters())"
   ]
  },
  {
   "cell_type": "markdown",
   "metadata": {
    "id": "tVR7TsqMjC4e"
   },
   "source": [
    "#Set Condition data"
   ]
  },
  {
   "cell_type": "code",
   "execution_count": 15,
   "metadata": {
    "id": "A1RFFuvMfexM"
   },
   "outputs": [],
   "source": [
    "##---------------------------------Condition Domain--------------------------------##\n",
    "\n",
    "x_Dt0 = np.random.uniform(low = 0 , high = N , size=(128,1))\n",
    "x_DDt0 = np.random.uniform(low = 0 , high = N , size=(128,1))\n",
    "t_Dx0 = np.random.uniform(low = 0 , high = N , size=(128,1))\n",
    "t_DxN = np.random.uniform(low = 0 , high = N , size=(128,1))\n",
    "x_0 = np.zeros((128,1))\n",
    "t_0 = np.zeros((128,1))\n",
    "x_N = np.ones((128,1))*N\n",
    "\n",
    "##---------------------------------Condition Label--------------------------------##\n",
    "\n",
    "u_t0 = np.zeros((128,1))\n",
    "u_Dt0 = 2/N*np.pi*np.sin(2/N*np.pi*x_DDt0) + 10/N*np.pi*np.sin(10/N*np.pi*x_DDt0)\n",
    "u_x0 =  np.zeros((128,1))\n",
    "u_xN =  np.zeros((128,1))\n",
    "\n",
    "##--------------------------------make tensor-----------------------------------##\n",
    "\n",
    "C_x_Dt0 = Variable(torch.from_numpy(x_Dt0).float(), requires_grad=True).to(device)\n",
    "C_t_Dx0 = Variable(torch.from_numpy(t_Dx0).float(), requires_grad=True).to(device)\n",
    "C_x_DDt0 = Variable(torch.from_numpy(x_DDt0).float(), requires_grad=True).to(device)\n",
    "C_t_DxN = Variable(torch.from_numpy(t_DxN).float(), requires_grad=True).to(device)\n",
    "C_x_0 = Variable(torch.from_numpy(x_0).float(), requires_grad=True).to(device)\n",
    "C_t_0 = Variable(torch.from_numpy(t_0).float(), requires_grad=True).to(device)\n",
    "C_x_N = Variable(torch.from_numpy(x_N).float(), requires_grad=True).to(device)\n",
    "\n",
    "##--------------------------------label tensor-----------------------------------##\n",
    "\n",
    "pt_u_t0 = Variable(torch.from_numpy(u_t0).float(), requires_grad=False).to(device)\n",
    "pt_u_Dt0 = Variable(torch.from_numpy(u_Dt0).float(), requires_grad=False).to(device)\n",
    "pt_u_x0 = Variable(torch.from_numpy(u_x0).float(), requires_grad=False).to(device)\n",
    "pt_u_xN = Variable(torch.from_numpy(u_xN).float(), requires_grad=False).to(device)\n",
    "\n",
    "##--------------------------------Residual Label---------------------------------##\n",
    "all_zeros = np.zeros((6400,1))\n",
    "pt_all_zeros = Variable(torch.from_numpy(all_zeros).float(), requires_grad=False).to(device)"
   ]
  },
  {
   "cell_type": "markdown",
   "metadata": {
    "id": "RRudNqPOkYP1"
   },
   "source": [
    "#Train"
   ]
  },
  {
   "cell_type": "code",
   "execution_count": 57,
   "metadata": {
    "colab": {
     "base_uri": "https://localhost:8080/",
     "height": 587
    },
    "id": "iScPWmf7jMNF",
    "outputId": "d90f5263-36ed-4bb4-b45a-52c5346fb284"
   },
   "outputs": [
    {
     "name": "stdout",
     "output_type": "stream",
     "text": [
      "-----------------------------------------------------------------------------\n",
      "Epoch: 0\n",
      "tensor(0.2117, device='cuda:0', grad_fn=<SqrtBackward0>)\n",
      "-----------------------------------------------------------------------------\n",
      "Epoch: 100\n",
      "tensor(0.2105, device='cuda:0', grad_fn=<SqrtBackward0>)\n",
      "-----------------------------------------------------------------------------\n",
      "Epoch: 200\n",
      "tensor(0.2056, device='cuda:0', grad_fn=<SqrtBackward0>)\n",
      "-----------------------------------------------------------------------------\n",
      "Epoch: 300\n",
      "tensor(0.2087, device='cuda:0', grad_fn=<SqrtBackward0>)\n"
     ]
    },
    {
     "ename": "KeyboardInterrupt",
     "evalue": "",
     "output_type": "error",
     "traceback": [
      "\u001b[0;31m---------------------------------------------------------------------------\u001b[0m",
      "\u001b[0;31mKeyboardInterrupt\u001b[0m                         Traceback (most recent call last)",
      "\u001b[0;32m<ipython-input-57-a56f1b8e8242>\u001b[0m in \u001b[0;36m<cell line: 4>\u001b[0;34m()\u001b[0m\n\u001b[1;32m     32\u001b[0m \u001b[0;34m\u001b[0m\u001b[0m\n\u001b[1;32m     33\u001b[0m \u001b[0;31m##------------------------------------Optimize-----------------------------------------##\u001b[0m\u001b[0;34m\u001b[0m\u001b[0;34m\u001b[0m\u001b[0m\n\u001b[0;32m---> 34\u001b[0;31m     \u001b[0mloss\u001b[0m\u001b[0;34m.\u001b[0m\u001b[0mbackward\u001b[0m\u001b[0;34m(\u001b[0m\u001b[0;34m)\u001b[0m\u001b[0;34m\u001b[0m\u001b[0;34m\u001b[0m\u001b[0m\n\u001b[0m\u001b[1;32m     35\u001b[0m     \u001b[0moptimizer\u001b[0m\u001b[0;34m.\u001b[0m\u001b[0mstep\u001b[0m\u001b[0;34m(\u001b[0m\u001b[0;34m)\u001b[0m\u001b[0;34m\u001b[0m\u001b[0;34m\u001b[0m\u001b[0m\n\u001b[1;32m     36\u001b[0m \u001b[0;34m\u001b[0m\u001b[0m\n",
      "\u001b[0;32m/usr/local/lib/python3.10/dist-packages/torch/_tensor.py\u001b[0m in \u001b[0;36mbackward\u001b[0;34m(self, gradient, retain_graph, create_graph, inputs)\u001b[0m\n\u001b[1;32m    579\u001b[0m                 \u001b[0minputs\u001b[0m\u001b[0;34m=\u001b[0m\u001b[0minputs\u001b[0m\u001b[0;34m,\u001b[0m\u001b[0;34m\u001b[0m\u001b[0;34m\u001b[0m\u001b[0m\n\u001b[1;32m    580\u001b[0m             )\n\u001b[0;32m--> 581\u001b[0;31m         torch.autograd.backward(\n\u001b[0m\u001b[1;32m    582\u001b[0m             \u001b[0mself\u001b[0m\u001b[0;34m,\u001b[0m \u001b[0mgradient\u001b[0m\u001b[0;34m,\u001b[0m \u001b[0mretain_graph\u001b[0m\u001b[0;34m,\u001b[0m \u001b[0mcreate_graph\u001b[0m\u001b[0;34m,\u001b[0m \u001b[0minputs\u001b[0m\u001b[0;34m=\u001b[0m\u001b[0minputs\u001b[0m\u001b[0;34m\u001b[0m\u001b[0;34m\u001b[0m\u001b[0m\n\u001b[1;32m    583\u001b[0m         )\n",
      "\u001b[0;32m/usr/local/lib/python3.10/dist-packages/torch/autograd/__init__.py\u001b[0m in \u001b[0;36mbackward\u001b[0;34m(tensors, grad_tensors, retain_graph, create_graph, grad_variables, inputs)\u001b[0m\n\u001b[1;32m    345\u001b[0m     \u001b[0;31m# some Python versions print out the first line of a multi-line function\u001b[0m\u001b[0;34m\u001b[0m\u001b[0;34m\u001b[0m\u001b[0m\n\u001b[1;32m    346\u001b[0m     \u001b[0;31m# calls in the traceback and some print out the last line\u001b[0m\u001b[0;34m\u001b[0m\u001b[0;34m\u001b[0m\u001b[0m\n\u001b[0;32m--> 347\u001b[0;31m     _engine_run_backward(\n\u001b[0m\u001b[1;32m    348\u001b[0m         \u001b[0mtensors\u001b[0m\u001b[0;34m,\u001b[0m\u001b[0;34m\u001b[0m\u001b[0;34m\u001b[0m\u001b[0m\n\u001b[1;32m    349\u001b[0m         \u001b[0mgrad_tensors_\u001b[0m\u001b[0;34m,\u001b[0m\u001b[0;34m\u001b[0m\u001b[0;34m\u001b[0m\u001b[0m\n",
      "\u001b[0;32m/usr/local/lib/python3.10/dist-packages/torch/autograd/graph.py\u001b[0m in \u001b[0;36m_engine_run_backward\u001b[0;34m(t_outputs, *args, **kwargs)\u001b[0m\n\u001b[1;32m    823\u001b[0m         \u001b[0munregister_hooks\u001b[0m \u001b[0;34m=\u001b[0m \u001b[0m_register_logging_hooks_on_whole_graph\u001b[0m\u001b[0;34m(\u001b[0m\u001b[0mt_outputs\u001b[0m\u001b[0;34m)\u001b[0m\u001b[0;34m\u001b[0m\u001b[0;34m\u001b[0m\u001b[0m\n\u001b[1;32m    824\u001b[0m     \u001b[0;32mtry\u001b[0m\u001b[0;34m:\u001b[0m\u001b[0;34m\u001b[0m\u001b[0;34m\u001b[0m\u001b[0m\n\u001b[0;32m--> 825\u001b[0;31m         return Variable._execution_engine.run_backward(  # Calls into the C++ engine to run the backward pass\n\u001b[0m\u001b[1;32m    826\u001b[0m             \u001b[0mt_outputs\u001b[0m\u001b[0;34m,\u001b[0m \u001b[0;34m*\u001b[0m\u001b[0margs\u001b[0m\u001b[0;34m,\u001b[0m \u001b[0;34m**\u001b[0m\u001b[0mkwargs\u001b[0m\u001b[0;34m\u001b[0m\u001b[0;34m\u001b[0m\u001b[0m\n\u001b[1;32m    827\u001b[0m         )  # Calls into the C++ engine to run the backward pass\n",
      "\u001b[0;31mKeyboardInterrupt\u001b[0m: "
     ]
    }
   ],
   "source": [
    "iterations = 60205\n",
    "previous_validation_loss = 99999999.0\n",
    "\n",
    "for epoch in range(iterations):\n",
    "\n",
    "    optimizer.zero_grad()\n",
    "\n",
    "##-------------------------------Condition predict output------------------------------------##\n",
    "\n",
    "    net_x0_out = net_wave(C_x_0, C_t_Dx0)\n",
    "    net_xN_out = net_wave(C_x_N, C_t_DxN)\n",
    "    net_xIC_out = net_wave(C_x_Dt0, C_t_0)\n",
    "    net_DxIC_out = dt(C_x_DDt0, C_t_0, net_wave)\n",
    "\n",
    "##------------------------------------Condition Loss-----------------------------------------##\n",
    "    mse_x0t = mse_cost_function(net_x0_out, pt_u_x0)\n",
    "    mse_xNt = mse_cost_function(net_xN_out, pt_u_xN)\n",
    "    mse_xt0 = mse_cost_function(net_xIC_out, pt_u_t0)\n",
    "    mse_Dxt0 = mse_cost_function(net_DxIC_out, pt_u_Dt0)\n",
    "\n",
    "# ##------------------------------------Set Interior Domain-----------------------------------------##\n",
    "    x_collocation = np.random.uniform(low=0, high=N, size=(6400,1))\n",
    "    t_collocation = np.random.uniform(low=0, high=N, size=(6400,1))\n",
    "\n",
    "    pt_x_collocation = Variable(torch.from_numpy(x_collocation).float(), requires_grad=True).to(device)\n",
    "    pt_t_collocation = Variable(torch.from_numpy(t_collocation).float(), requires_grad=True).to(device)\n",
    "\n",
    "##------------------------------------Compute Loss-----------------------------------------##\n",
    "    f_out = f(pt_x_collocation, pt_t_collocation, net_wave)\n",
    "    mse_f = mse_cost_function(f_out, pt_all_zeros)\n",
    "    loss = mse_x0t + mse_xNt + mse_xt0 + mse_Dxt0 + mse_f\n",
    "\n",
    "##------------------------------------Optimize-----------------------------------------##\n",
    "    loss.backward()\n",
    "    optimizer.step()\n",
    "\n",
    "##----------------------------Relative L2 Error-----------------------------##\n",
    "    if (epoch) % 100 == 0:\n",
    "        Solution = torch.sin(2*torch.pi*pt_t)*torch.sin(2*torch.pi*pt_x)+torch.sin(10*torch.pi*pt_t)*torch.sin(10*torch.pi*pt_x)\n",
    "        pt_u = net_wave(N*pt_x,N*pt_t)\n",
    "\n",
    "        gap3 = torch.sqrt(((Solution - pt_u)**2).mean()/(Solution**2).mean())\n",
    "        print(\"-----------------------------------------------------------------------------\")\n",
    "        print(\"Epoch:\",epoch)\n",
    "        print(gap3)"
   ]
  },
  {
   "cell_type": "markdown",
   "metadata": {
    "id": "vWYCXeOZApwA"
   },
   "source": [
    "#Plot Prediction"
   ]
  },
  {
   "cell_type": "code",
   "execution_count": null,
   "metadata": {
    "colab": {
     "base_uri": "https://localhost:8080/",
     "height": 430
    },
    "id": "SSoyj0S0cXYV",
    "outputId": "e330f4a6-5261-4667-fe53-9fd28d40ea2e"
   },
   "outputs": [
    {
     "data": {
      "image/png": "[encoded data removed]",
      "text/plain": [
       "<Figure size 640x480 with 2 Axes>"
      ]
     },
     "metadata": {},
     "output_type": "display_data"
    }
   ],
   "source": [
    "from mpl_toolkits.mplot3d import Axes3D\n",
    "import matplotlib.pyplot as plt\n",
    "from matplotlib import cm\n",
    "from matplotlib.ticker import LinearLocator, FormatStrFormatter\n",
    "import numpy as np\n",
    "\n",
    "fig = plt.figure()\n",
    "# plt.figure(figsize=(4,8))\n",
    "# ax = fig.add_subplot(projection = '3d')\n",
    "\n",
    "x=np.arange(0,1,0.01)\n",
    "t=np.arange(0,1,0.01)\n",
    "\n",
    "ms_x, ms_t= np.meshgrid(x,t)\n",
    "\n",
    "x = np.ravel(ms_x).reshape(-1,1)\n",
    "t = np.ravel(ms_t).reshape(-1,1)\n",
    "\n",
    "pt_x = Variable(torch.from_numpy(x).float(), requires_grad=True).to(device)\n",
    "pt_t = Variable(torch.from_numpy(t).float(), requires_grad=True).to(device)\n",
    "\n",
    "pt_u = net_wave(N*pt_x,N*pt_t)\n",
    "\n",
    "\n",
    "u = pt_u.data.cpu().numpy()\n",
    "ms_u = u.reshape(ms_x.shape)\n",
    "\n",
    "\n",
    "\n",
    "plt.contourf(ms_t, ms_x , ms_u, levels=20)\n",
    "plt.colorbar() \n",
    "\n",
    "plt.show()"
   ]
  }
 ],
 "metadata": {
  "accelerator": "GPU",
  "colab": {
   "gpuType": "T4",
   "provenance": []
  },
  "kernelspec": {
   "display_name": "Python 3",
   "name": "python3"
  },
  "language_info": {
   "name": "python"
  }
 },
 "nbformat": 4,
 "nbformat_minor": 0
}
